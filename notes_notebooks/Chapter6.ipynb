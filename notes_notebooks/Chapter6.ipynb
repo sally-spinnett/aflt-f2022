{
 "cells": [
  {
   "cell_type": "code",
   "execution_count": 1,
   "metadata": {},
   "outputs": [],
   "source": [
    "from rayuela.base.semiring import Boolean, Rational, Real\n",
    "from rayuela.base.symbol import Sym, ε\n",
    "from rayuela.cfg.cfg import CFG\n",
    "from rayuela.cfg.nonterminal import NT, S\n",
    "from rayuela.cfg.treesum import Treesum"
   ]
  },
  {
   "cell_type": "markdown",
   "metadata": {},
   "source": [
    "## Example 1"
   ]
  },
  {
   "cell_type": "markdown",
   "metadata": {},
   "source": [
    "A natural language grammar for nominals"
   ]
  },
  {
   "cell_type": "code",
   "execution_count": null,
   "metadata": {},
   "outputs": [],
   "source": [
    "R = Boolean\n",
    "one = R.one\n",
    "cfg = CFG(R)\n",
    "\n",
    "cfg.add(one, S, NT(\"Nominal\"))\n",
    "cfg.add(one, NT(\"Nominal\"), NT(\"Det\"), NT(\"NT\"))\n",
    "cfg.add(one, NT(\"NP\"), NT(\"N\"))\n",
    "cfg.add(one, NT(\"NP\"), NT(\"Adj\"), NT(\"NP\"))\n",
    "cfg.add(one, NT(\"Det\"), Sym(\"a\"))\n",
    "cfg.add(one, NT(\"Det\"), Sym(\"the\"))\n",
    "cfg.add(one, NT(\"N\"), Sym(\"giraffe\"))\n",
    "cfg.add(one, NT(\"N\"), Sym(\"male\"))\n",
    "cfg.add(one, NT(\"N\"), Sym(\"female\"))\n",
    "cfg.add(one, NT(\"Adj\"), Sym(\"big\"))\n",
    "cfg.add(one, NT(\"Adj\"), Sym(\"male\"))\n",
    "cfg.add(one, NT(\"Adj\"), Sym(\"tall\"))\n",
    "cfg.add(one, NT(\"Adj\"), Sym(\"female\"))\n",
    "\n",
    "print(cfg)"
   ]
  },
  {
   "cell_type": "markdown",
   "metadata": {},
   "source": [
    "## Example 2"
   ]
  },
  {
   "cell_type": "markdown",
   "metadata": {},
   "source": [
    "Recognizing a^nb^n"
   ]
  },
  {
   "cell_type": "code",
   "execution_count": 2,
   "metadata": {
    "scrolled": true
   },
   "outputs": [
    {
     "name": "stdout",
     "output_type": "stream",
     "text": [
      "X → ε\tTrue\n",
      "X → a X b\tTrue\n"
     ]
    }
   ],
   "source": [
    "R = Boolean\n",
    "zero, one = R.zero, R.one\n",
    "X = NT(\"X\")\n",
    "a, b = Sym(\"a\"), Sym(\"b\")\n",
    "cfg = CFG(R)\n",
    "cfg.S = X\n",
    "\n",
    "cfg.add(one, X, ε)\n",
    "cfg.add(one, X, a, X, b)\n",
    "\n",
    "print(cfg)"
   ]
  },
  {
   "cell_type": "code",
   "execution_count": 3,
   "metadata": {},
   "outputs": [
    {
     "name": "stdout",
     "output_type": "stream",
     "text": [
      "2\n",
      "6\n"
     ]
    }
   ],
   "source": [
    "print(cfg.num_rules)\n",
    "print(cfg.size)"
   ]
  },
  {
   "cell_type": "markdown",
   "metadata": {},
   "source": [
    "Weakly equivalent grammar"
   ]
  },
  {
   "cell_type": "code",
   "execution_count": 4,
   "metadata": {},
   "outputs": [
    {
     "name": "stdout",
     "output_type": "stream",
     "text": [
      "X → ε\tTrue\n",
      "X → a Y\tTrue\n",
      "Y → X b\tTrue\n"
     ]
    }
   ],
   "source": [
    "Y = NT(\"Y\")\n",
    "\n",
    "cfg = CFG(R)\n",
    "cfg.S = X\n",
    "\n",
    "cfg.add(one, X, ε)\n",
    "cfg.add(one, X, a, Y)\n",
    "cfg.add(one, Y, X, b)\n",
    "\n",
    "print(cfg)"
   ]
  },
  {
   "cell_type": "code",
   "execution_count": 5,
   "metadata": {},
   "outputs": [
    {
     "name": "stdout",
     "output_type": "stream",
     "text": [
      "3\n",
      "8\n"
     ]
    }
   ],
   "source": [
    "print(cfg.num_rules)\n",
    "print(cfg.size)"
   ]
  },
  {
   "cell_type": "markdown",
   "metadata": {},
   "source": [
    "Computing the treesum"
   ]
  },
  {
   "cell_type": "code",
   "execution_count": 8,
   "metadata": {},
   "outputs": [
    {
     "name": "stdout",
     "output_type": "stream",
     "text": [
      "1.5\n"
     ]
    }
   ],
   "source": [
    "R = Real\n",
    "\n",
    "cfg = CFG(R)\n",
    "cfg.S = X\n",
    "\n",
    "cfg.add(Real(1), X, ε)\n",
    "cfg.add(Real(1/3), X, a, X, b)\n",
    "\n",
    "\n",
    "treesum = Treesum(cfg).sum()\n",
    "print(treesum)"
   ]
  }
 ],
 "metadata": {
  "kernelspec": {
   "display_name": "Python 3",
   "language": "python",
   "name": "python3"
  },
  "language_info": {
   "codemirror_mode": {
    "name": "ipython",
    "version": 3
   },
   "file_extension": ".py",
   "mimetype": "text/x-python",
   "name": "python",
   "nbconvert_exporter": "python",
   "pygments_lexer": "ipython3",
   "version": "3.7.6"
  }
 },
 "nbformat": 4,
 "nbformat_minor": 4
}
