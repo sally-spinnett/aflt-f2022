{
 "cells": [
  {
   "cell_type": "markdown",
   "metadata": {},
   "source": [
    "### Imports"
   ]
  },
  {
   "cell_type": "code",
   "execution_count": 1,
   "metadata": {},
   "outputs": [],
   "source": [
    "from pprint import pprint\n",
    "\n",
    "import numpy as np"
   ]
  },
  {
   "cell_type": "code",
   "execution_count": 2,
   "metadata": {},
   "outputs": [],
   "source": [
    "from rayuela.base.semiring import Boolean, Real, Tropical\n",
    "from rayuela.base.symbol import Sym, ε\n",
    "from rayuela.fsa.fsa import FSA\n",
    "from rayuela.fsa.state import State\n",
    "from rayuela.fsa.pathsum import Pathsum, Strategy"
   ]
  },
  {
   "cell_type": "markdown",
   "metadata": {},
   "source": [
    "## Example 1"
   ]
  },
  {
   "cell_type": "code",
   "execution_count": 8,
   "metadata": {},
   "outputs": [
    {
     "data": {
      "text/html": [
       "\n",
       "\t\t<script>\n",
       "\t\ttry {\n",
       "\t\trequire.config({\n",
       "\t\tpaths: {\n",
       "\t\t\"d3\": \"https://cdnjs.cloudflare.com/ajax/libs/d3/4.13.0/d3\",\n",
       "\t\t\"dagreD3\": \"https://cdnjs.cloudflare.com/ajax/libs/dagre-d3/0.6.1/dagre-d3.min\"\n",
       "\t\t}\n",
       "\t\t});\n",
       "\t\t} catch {\n",
       "\t\t  [\"https://cdnjs.cloudflare.com/ajax/libs/d3/4.13.0/d3.js\",\n",
       "\t\t   \"https://cdnjs.cloudflare.com/ajax/libs/dagre-d3/0.6.1/dagre-d3.min.js\"].forEach(function (src) {\n",
       "\t\t\tvar tag = document.createElement('script');\n",
       "\t\t\ttag.src = src;\n",
       "\t\t\tdocument.body.appendChild(tag);\n",
       "\t\t  })\n",
       "\t\t}\n",
       "\t\ttry {\n",
       "\t\trequirejs(['d3', 'dagreD3'], function() {});\n",
       "\t\t} catch (e) {}\n",
       "\t\ttry {\n",
       "\t\trequire(['d3', 'dagreD3'], function() {});\n",
       "\t\t} catch (e) {}\n",
       "\t\t</script>\n",
       "\t\t<style>\n",
       "\t\t.node rect,\n",
       "\t\t.node circle,\n",
       "\t\t.node ellipse {\n",
       "\t\tstroke: #333;\n",
       "\t\tfill: #fff;\n",
       "\t\tstroke-width: 1px;\n",
       "\t\t}\n",
       "\n",
       "\t\t.edgePath path {\n",
       "\t\tstroke: #333;\n",
       "\t\tfill: #333;\n",
       "\t\tstroke-width: 1.5px;\n",
       "\t\t}\n",
       "\t\t</style>\n",
       "\t\t<center><svg width=\"850\" height=\"600\" id=\"fst_b290111ff77649ee8d5d239f63862ff4\"><g/></svg></center>\n",
       "\t\t<script>\n",
       "\t\t(function render_d3() {\n",
       "\t\tvar d3, dagreD3;\n",
       "\t\ttry { // requirejs is broken on external domains\n",
       "\t\t  d3 = require('d3');\n",
       "\t\t  dagreD3 = require('dagreD3');\n",
       "\t\t} catch (e) {\n",
       "\t\t  // for google colab\n",
       "\t\t  if(typeof window.d3 !== \"undefined\" && typeof window.dagreD3 !== \"undefined\") {\n",
       "\t\t\td3 = window.d3;\n",
       "\t\t\tdagreD3 = window.dagreD3;\n",
       "\t\t  } else { // not loaded yet, so wait and try again\n",
       "\t\t\tsetTimeout(render_d3, 50);\n",
       "\t\t\treturn;\n",
       "\t\t  }\n",
       "\t\t}\n",
       "\t\t//alert(\"loaded\");\n",
       "\t\tvar g = new dagreD3.graphlib.Graph().setGraph({ 'rankdir': 'LR' });\n",
       "\t\tg.setNode(\"3\", { label: \"3 / True\" , shape: \"circle\" });\n",
       "g.node(\"3\").style = \"fill: #66c2a5\"; \n",
       "g.setNode(\"1\", { label: \"1\" , shape: \"circle\" });\n",
       "g.node(\"1\").style = \"fill: #8da0cb\"; \n",
       "g.setNode(\"4\", { label: \"4\" , shape: \"circle\" });\n",
       "g.node(\"4\").style = \"fill: #8da0cb\"; \n",
       "g.setNode(\"5\", { label: \"5\" , shape: \"circle\" });\n",
       "g.node(\"5\").style = \"fill: #8da0cb\"; \n",
       "g.setNode(\"6\", { label: \"6\" , shape: \"circle\" });\n",
       "g.node(\"6\").style = \"fill: #8da0cb\"; \n",
       "g.setNode(\"2\", { label: \"2 / True\" , shape: \"circle\" });\n",
       "g.node(\"2\").style = \"fill: #fc8d62\"; \n",
       "g.setEdge(\"1\", \"5\", { arrowhead: \"vee\", label: \"c / True\" });\n",
       "g.setEdge(\"1\", \"4\", { arrowhead: \"vee\", label: \"b / True\" });\n",
       "g.setEdge(\"3\", \"6\", { arrowhead: \"vee\", label: \"a / True\" });\n",
       "g.setEdge(\"3\", \"1\", { arrowhead: \"vee\", label: \"b / True\" });\n",
       "g.setEdge(\"4\", \"2\", { arrowhead: \"vee\", label: \"a / True\" });\n",
       "g.setEdge(\"5\", \"2\", { arrowhead: \"vee\", label: \"a / True\" });\n",
       "g.setEdge(\"6\", \"5\", { arrowhead: \"vee\", label: \"c / True\" });\n",
       "var svg = d3.select(\"#fst_b290111ff77649ee8d5d239f63862ff4\"); \n",
       "\n",
       "\t\tvar inner = svg.select(\"g\");\n",
       "\n",
       "\t\t// Set up zoom support\n",
       "\t\tvar zoom = d3.zoom().scaleExtent([0.3, 5]).on(\"zoom\", function() {\n",
       "\t\tinner.attr(\"transform\", d3.event.transform);\n",
       "\t\t});\n",
       "\t\tsvg.call(zoom);\n",
       "\n",
       "\t\t// Create the renderer\n",
       "\t\tvar render = new dagreD3.render();\n",
       "\n",
       "\t\t// Run the renderer. This is what draws the final graph.\n",
       "\t\trender(inner, g);\n",
       "\n",
       "\t\t// Center the graph\n",
       "\t\tvar initialScale = 0.75;\n",
       "\t\tsvg.call(zoom.transform, d3.zoomIdentity.translate(\n",
       "\t\t    (svg.attr(\"width\") - g.graph().width * initialScale) / 2, 20).scale(initialScale));\n",
       "\n",
       "\t\tsvg.attr('height', g.graph().height * initialScale + 50);\n",
       "\t\t})();\n",
       "\n",
       "\t\t</script>\n",
       "\t\t"
      ],
      "text/plain": [
       "WFSA(6 states, <class 'rayuela.base.semiring.Boolean'>)"
      ]
     },
     "execution_count": 8,
     "metadata": {},
     "output_type": "execute_result"
    }
   ],
   "source": [
    "fsa = FSA(R=Boolean)\n",
    "\n",
    "fsa.add_arc(State(3), Sym('a'), State(6))\n",
    "fsa.add_arc(State(3), Sym('b'), State(1))\n",
    "\n",
    "fsa.add_arc(State(6), Sym('c'), State(5))\n",
    "\n",
    "fsa.add_arc(State(1), Sym('c'), State(5))\n",
    "fsa.add_arc(State(1), Sym('b'), State(4))\n",
    "\n",
    "fsa.add_arc(State(4), Sym('a'), State(2))\n",
    "\n",
    "fsa.add_arc(State(5), Sym('a'), State(2))\n",
    "\n",
    "fsa.set_I(State(3))\n",
    "fsa.set_F(State(2))\n",
    "\n",
    "fsa"
   ]
  },
  {
   "cell_type": "code",
   "execution_count": 13,
   "metadata": {},
   "outputs": [
    {
     "data": {
      "text/plain": [
       "[3, 1, 4, 6, 5, 2]"
      ]
     },
     "execution_count": 13,
     "metadata": {},
     "output_type": "execute_result"
    }
   ],
   "source": [
    "list(fsa.toposort())"
   ]
  },
  {
   "cell_type": "markdown",
   "metadata": {},
   "source": [
    "## Example 2"
   ]
  },
  {
   "cell_type": "markdown",
   "metadata": {},
   "source": [
    "Backward with all the intermediate β values"
   ]
  },
  {
   "cell_type": "code",
   "execution_count": 90,
   "metadata": {},
   "outputs": [
    {
     "data": {
      "text/html": [
       "\n",
       "\t\t<script>\n",
       "\t\ttry {\n",
       "\t\trequire.config({\n",
       "\t\tpaths: {\n",
       "\t\t\"d3\": \"https://cdnjs.cloudflare.com/ajax/libs/d3/4.13.0/d3\",\n",
       "\t\t\"dagreD3\": \"https://cdnjs.cloudflare.com/ajax/libs/dagre-d3/0.6.1/dagre-d3.min\"\n",
       "\t\t}\n",
       "\t\t});\n",
       "\t\t} catch {\n",
       "\t\t  [\"https://cdnjs.cloudflare.com/ajax/libs/d3/4.13.0/d3.js\",\n",
       "\t\t   \"https://cdnjs.cloudflare.com/ajax/libs/dagre-d3/0.6.1/dagre-d3.min.js\"].forEach(function (src) {\n",
       "\t\t\tvar tag = document.createElement('script');\n",
       "\t\t\ttag.src = src;\n",
       "\t\t\tdocument.body.appendChild(tag);\n",
       "\t\t  })\n",
       "\t\t}\n",
       "\t\ttry {\n",
       "\t\trequirejs(['d3', 'dagreD3'], function() {});\n",
       "\t\t} catch (e) {}\n",
       "\t\ttry {\n",
       "\t\trequire(['d3', 'dagreD3'], function() {});\n",
       "\t\t} catch (e) {}\n",
       "\t\t</script>\n",
       "\t\t<style>\n",
       "\t\t.node rect,\n",
       "\t\t.node circle,\n",
       "\t\t.node ellipse {\n",
       "\t\tstroke: #333;\n",
       "\t\tfill: #fff;\n",
       "\t\tstroke-width: 1px;\n",
       "\t\t}\n",
       "\n",
       "\t\t.edgePath path {\n",
       "\t\tstroke: #333;\n",
       "\t\tfill: #333;\n",
       "\t\tstroke-width: 1.5px;\n",
       "\t\t}\n",
       "\t\t</style>\n",
       "\t\t<center><svg width=\"850\" height=\"600\" id=\"fst_68b4119ab0344490901755598265fe20\"><g/></svg></center>\n",
       "\t\t<script>\n",
       "\t\t(function render_d3() {\n",
       "\t\tvar d3, dagreD3;\n",
       "\t\ttry { // requirejs is broken on external domains\n",
       "\t\t  d3 = require('d3');\n",
       "\t\t  dagreD3 = require('dagreD3');\n",
       "\t\t} catch (e) {\n",
       "\t\t  // for google colab\n",
       "\t\t  if(typeof window.d3 !== \"undefined\" && typeof window.dagreD3 !== \"undefined\") {\n",
       "\t\t\td3 = window.d3;\n",
       "\t\t\tdagreD3 = window.dagreD3;\n",
       "\t\t  } else { // not loaded yet, so wait and try again\n",
       "\t\t\tsetTimeout(render_d3, 50);\n",
       "\t\t\treturn;\n",
       "\t\t  }\n",
       "\t\t}\n",
       "\t\t//alert(\"loaded\");\n",
       "\t\tvar g = new dagreD3.graphlib.Graph().setGraph({ 'rankdir': 'LR' });\n",
       "\t\tg.setNode(\"3\", { label: \"3 / 3\" , shape: \"circle\" });\n",
       "g.node(\"3\").style = \"fill: #66c2a5\"; \n",
       "g.setNode(\"1\", { label: \"1\" , shape: \"circle\" });\n",
       "g.node(\"1\").style = \"fill: #8da0cb\"; \n",
       "g.setNode(\"4\", { label: \"4\" , shape: \"circle\" });\n",
       "g.node(\"4\").style = \"fill: #8da0cb\"; \n",
       "g.setNode(\"5\", { label: \"5\" , shape: \"circle\" });\n",
       "g.node(\"5\").style = \"fill: #8da0cb\"; \n",
       "g.setNode(\"6\", { label: \"6\" , shape: \"circle\" });\n",
       "g.node(\"6\").style = \"fill: #8da0cb\"; \n",
       "g.setNode(\"8\", { label: \"8\" , shape: \"circle\" });\n",
       "g.node(\"8\").style = \"fill: #8da0cb\"; \n",
       "g.setNode(\"2\", { label: \"2 / 4\" , shape: \"circle\" });\n",
       "g.node(\"2\").style = \"fill: #fc8d62\"; \n",
       "g.setNode(\"7\", { label: \"7 / 2\" , shape: \"circle\" });\n",
       "g.node(\"7\").style = \"fill: #fc8d62\"; \n",
       "g.setEdge(\"1\", \"5\", { arrowhead: \"vee\", label: \"c / 3.0\" });\n",
       "g.setEdge(\"1\", \"4\", { arrowhead: \"vee\", label: \"b / 1.0\" });\n",
       "g.setEdge(\"2\", \"8\", { arrowhead: \"vee\", label: \"a / 1.0\" });\n",
       "g.setEdge(\"3\", \"6\", { arrowhead: \"vee\", label: \"a / 1.0\" });\n",
       "g.setEdge(\"3\", \"1\", { arrowhead: \"vee\", label: \"b / 7.0\" });\n",
       "g.setEdge(\"4\", \"2\", { arrowhead: \"vee\", label: \"a / 5.0\" });\n",
       "g.setEdge(\"5\", \"2\", { arrowhead: \"vee\", label: \"a / 3.0\" });\n",
       "g.setEdge(\"5\", \"7\", { arrowhead: \"vee\", label: \"a / 8.0\" });\n",
       "g.setEdge(\"6\", \"5\", { arrowhead: \"vee\", label: \"c / 4.0\" });\n",
       "g.setEdge(\"6\", \"7\", { arrowhead: \"vee\", label: \"a / 7.0\" });\n",
       "g.setEdge(\"7\", \"8\", { arrowhead: \"vee\", label: \"a / 2.0\" });\n",
       "var svg = d3.select(\"#fst_68b4119ab0344490901755598265fe20\"); \n",
       "\n",
       "\t\tvar inner = svg.select(\"g\");\n",
       "\n",
       "\t\t// Set up zoom support\n",
       "\t\tvar zoom = d3.zoom().scaleExtent([0.3, 5]).on(\"zoom\", function() {\n",
       "\t\tinner.attr(\"transform\", d3.event.transform);\n",
       "\t\t});\n",
       "\t\tsvg.call(zoom);\n",
       "\n",
       "\t\t// Create the renderer\n",
       "\t\tvar render = new dagreD3.render();\n",
       "\n",
       "\t\t// Run the renderer. This is what draws the final graph.\n",
       "\t\trender(inner, g);\n",
       "\n",
       "\t\t// Center the graph\n",
       "\t\tvar initialScale = 0.75;\n",
       "\t\tsvg.call(zoom.transform, d3.zoomIdentity.translate(\n",
       "\t\t    (svg.attr(\"width\") - g.graph().width * initialScale) / 2, 20).scale(initialScale));\n",
       "\n",
       "\t\tsvg.attr('height', g.graph().height * initialScale + 50);\n",
       "\t\t})();\n",
       "\n",
       "\t\t</script>\n",
       "\t\t"
      ],
      "text/plain": [
       "WFSA(8 states, <class 'rayuela.base.semiring.Real'>)"
      ]
     },
     "execution_count": 90,
     "metadata": {},
     "output_type": "execute_result"
    }
   ],
   "source": [
    "fsa = FSA(R=Real)\n",
    "\n",
    "fsa.add_arc(State(2), Sym('a'), State(8), Real(1))\n",
    "\n",
    "fsa.add_arc(State(3), Sym('a'), State(6), Real(1))\n",
    "fsa.add_arc(State(3), Sym('b'), State(1), Real(7))\n",
    "\n",
    "fsa.add_arc(State(6), Sym('c'), State(5), Real(4))\n",
    "\n",
    "fsa.add_arc(State(1), Sym('c'), State(5), Real(3))\n",
    "fsa.add_arc(State(1), Sym('b'), State(4), Real(1))\n",
    "\n",
    "fsa.add_arc(State(4), Sym('a'), State(2), Real(5))\n",
    "\n",
    "fsa.add_arc(State(5), Sym('a'), State(2), Real(3))\n",
    "fsa.add_arc(State(5), Sym('a'), State(7), Real(8))\n",
    "\n",
    "fsa.add_arc(State(6), Sym('a'), State(7), Real(7))\n",
    "\n",
    "fsa.add_arc(State(7), Sym('a'), State(8), Real(2))\n",
    "\n",
    "fsa.set_I(State(3), Real(3))\n",
    "fsa.set_F(State(2), Real(4))\n",
    "fsa.set_F(State(7), Real(2))\n",
    "\n",
    "fsa"
   ]
  },
  {
   "cell_type": "code",
   "execution_count": 91,
   "metadata": {},
   "outputs": [
    {
     "name": "stdout",
     "output_type": "stream",
     "text": [
      "{8: 0.0,\n",
      " 4: 20.0,\n",
      " 5: 28.0,\n",
      " 1: 104.0,\n",
      " 6: 126.0,\n",
      " 7: 2.0,\n",
      " 2: 4.0,\n",
      " 3: 854.0}\n"
     ]
    }
   ],
   "source": [
    "pprint(Pathsum(fsa).backward(strategy=Strategy.VITERBI))"
   ]
  },
  {
   "cell_type": "code",
   "execution_count": 92,
   "metadata": {},
   "outputs": [
    {
     "name": "stdout",
     "output_type": "stream",
     "text": [
      "2562.0\n"
     ]
    }
   ],
   "source": [
    "pprint(Pathsum(fsa).pathsum(strategy=Strategy.VITERBI))"
   ]
  },
  {
   "cell_type": "markdown",
   "metadata": {},
   "source": [
    "## Example 3"
   ]
  },
  {
   "cell_type": "markdown",
   "metadata": {},
   "source": [
    "Matrix closure by fixed point"
   ]
  },
  {
   "cell_type": "markdown",
   "metadata": {},
   "source": [
    "We can compute $\\left( I - M\\right)^{-1}$ using the fixed point algorithm ran until numerical convergence."
   ]
  },
  {
   "cell_type": "code",
   "execution_count": 37,
   "metadata": {},
   "outputs": [
    {
     "data": {
      "text/plain": [
       "array([[0.01027232, 0.06327649, 0.04756849, 0.02031754, 0.12113094],\n",
       "       [0.0096312 , 0.03479378, 0.15765437, 0.16380315, 0.03878034],\n",
       "       [0.19954012, 0.15323823, 0.09465078, 0.01604716, 0.11936823],\n",
       "       [0.03476662, 0.07260129, 0.15169991, 0.05674668, 0.13927935],\n",
       "       [0.03732759, 0.00609119, 0.09093126, 0.05166527, 0.01201713]])"
      ]
     },
     "execution_count": 37,
     "metadata": {},
     "output_type": "execute_result"
    }
   ],
   "source": [
    "D = 5\n",
    "\n",
    "M = np.random.rand(D, D) / D  # ensure entries are smaller than 1 / D\n",
    "M"
   ]
  },
  {
   "cell_type": "code",
   "execution_count": 40,
   "metadata": {},
   "outputs": [
    {
     "data": {
      "text/plain": [
       "array([[1.03712624, 0.08715881, 0.09247988, 0.04717713, 0.14840145],\n",
       "       [0.07001464, 1.0944272 , 0.23896784, 0.20159041, 0.10883362],\n",
       "       [0.25101744, 0.21146274, 1.1861166 , 0.07286024, 0.1926543 ],\n",
       "       [0.09397236, 0.12679368, 0.23119859, 1.09905688, 0.19936961],\n",
       "       [0.06763309, 0.03613342, 0.12622452, 0.06720489, 1.04659829]])"
      ]
     },
     "execution_count": 40,
     "metadata": {},
     "output_type": "execute_result"
    }
   ],
   "source": [
    "R = np.zeros_like(M)\n",
    "for i in range(200):\n",
    "    R = (np.eye(D, D) + R) @ M\n",
    "np.eye(D, D) + R"
   ]
  },
  {
   "cell_type": "code",
   "execution_count": 39,
   "metadata": {},
   "outputs": [
    {
     "data": {
      "text/plain": [
       "array([[1.03712624, 0.08715881, 0.09247988, 0.04717713, 0.14840145],\n",
       "       [0.07001464, 1.0944272 , 0.23896784, 0.20159041, 0.10883362],\n",
       "       [0.25101744, 0.21146274, 1.1861166 , 0.07286024, 0.1926543 ],\n",
       "       [0.09397236, 0.12679368, 0.23119859, 1.09905688, 0.19936961],\n",
       "       [0.06763309, 0.03613342, 0.12622452, 0.06720489, 1.04659829]])"
      ]
     },
     "execution_count": 39,
     "metadata": {},
     "output_type": "execute_result"
    }
   ],
   "source": [
    "np.linalg.inv(np.eye(D, D) - M)"
   ]
  },
  {
   "cell_type": "markdown",
   "metadata": {},
   "source": [
    "Matrix power in logarithmic number of multiplications"
   ]
  },
  {
   "cell_type": "code",
   "execution_count": 56,
   "metadata": {},
   "outputs": [],
   "source": [
    "M = np.random.rand(D, D)"
   ]
  },
  {
   "cell_type": "code",
   "execution_count": 63,
   "metadata": {},
   "outputs": [],
   "source": [
    "m = 13\n",
    "# 13 = 8 + 4 + 1 = 2^3 + 2^2 + 2^0"
   ]
  },
  {
   "cell_type": "code",
   "execution_count": 85,
   "metadata": {},
   "outputs": [],
   "source": [
    "Ms = [M]\n",
    "for r in range(1, 4):\n",
    "    Ms.append(Ms[-1] @ Ms[-1])"
   ]
  },
  {
   "cell_type": "code",
   "execution_count": 86,
   "metadata": {},
   "outputs": [
    {
     "data": {
      "text/plain": [
       "array([[6.13840964e-05, 5.41136168e-05, 6.08701107e-05, 5.83428147e-05,\n",
       "        6.36730990e-05],\n",
       "       [6.03812196e-05, 5.32295208e-05, 5.98756301e-05, 5.73896245e-05,\n",
       "        6.26328226e-05],\n",
       "       [5.23322003e-05, 4.61338484e-05, 5.18940081e-05, 4.97393952e-05,\n",
       "        5.42836586e-05],\n",
       "       [6.93359178e-05, 6.11236031e-05, 6.87553447e-05, 6.59006566e-05,\n",
       "        7.19214397e-05],\n",
       "       [6.54939891e-05, 5.77367201e-05, 6.49455869e-05, 6.22490781e-05,\n",
       "        6.79362452e-05]])"
      ]
     },
     "execution_count": 86,
     "metadata": {},
     "output_type": "execute_result"
    }
   ],
   "source": [
    "Ms[0] @ Ms[2] @ Ms[3]"
   ]
  },
  {
   "cell_type": "code",
   "execution_count": 87,
   "metadata": {},
   "outputs": [
    {
     "data": {
      "text/plain": [
       "array([[6.13840964e-05, 5.41136168e-05, 6.08701107e-05, 5.83428147e-05,\n",
       "        6.36730990e-05],\n",
       "       [6.03812196e-05, 5.32295208e-05, 5.98756301e-05, 5.73896245e-05,\n",
       "        6.26328226e-05],\n",
       "       [5.23322003e-05, 4.61338484e-05, 5.18940081e-05, 4.97393952e-05,\n",
       "        5.42836586e-05],\n",
       "       [6.93359178e-05, 6.11236031e-05, 6.87553447e-05, 6.59006566e-05,\n",
       "        7.19214397e-05],\n",
       "       [6.54939891e-05, 5.77367201e-05, 6.49455869e-05, 6.22490781e-05,\n",
       "        6.79362452e-05]])"
      ]
     },
     "execution_count": 87,
     "metadata": {},
     "output_type": "execute_result"
    }
   ],
   "source": [
    "np.linalg.matrix_power(M, 13)"
   ]
  },
  {
   "cell_type": "markdown",
   "metadata": {},
   "source": [
    "### Graph closure by WFK"
   ]
  },
  {
   "cell_type": "markdown",
   "metadata": {},
   "source": [
    "The closure of the graph answers the question whether there is a path between pairs of nodes for each possible pair"
   ]
  },
  {
   "cell_type": "markdown",
   "metadata": {},
   "source": [
    "#### Acyclic"
   ]
  },
  {
   "cell_type": "code",
   "execution_count": 51,
   "metadata": {},
   "outputs": [
    {
     "data": {
      "text/html": [
       "\n",
       "\t\t<script>\n",
       "\t\ttry {\n",
       "\t\trequire.config({\n",
       "\t\tpaths: {\n",
       "\t\t\"d3\": \"https://cdnjs.cloudflare.com/ajax/libs/d3/4.13.0/d3\",\n",
       "\t\t\"dagreD3\": \"https://cdnjs.cloudflare.com/ajax/libs/dagre-d3/0.6.1/dagre-d3.min\"\n",
       "\t\t}\n",
       "\t\t});\n",
       "\t\t} catch {\n",
       "\t\t  [\"https://cdnjs.cloudflare.com/ajax/libs/d3/4.13.0/d3.js\",\n",
       "\t\t   \"https://cdnjs.cloudflare.com/ajax/libs/dagre-d3/0.6.1/dagre-d3.min.js\"].forEach(function (src) {\n",
       "\t\t\tvar tag = document.createElement('script');\n",
       "\t\t\ttag.src = src;\n",
       "\t\t\tdocument.body.appendChild(tag);\n",
       "\t\t  })\n",
       "\t\t}\n",
       "\t\ttry {\n",
       "\t\trequirejs(['d3', 'dagreD3'], function() {});\n",
       "\t\t} catch (e) {}\n",
       "\t\ttry {\n",
       "\t\trequire(['d3', 'dagreD3'], function() {});\n",
       "\t\t} catch (e) {}\n",
       "\t\t</script>\n",
       "\t\t<style>\n",
       "\t\t.node rect,\n",
       "\t\t.node circle,\n",
       "\t\t.node ellipse {\n",
       "\t\tstroke: #333;\n",
       "\t\tfill: #fff;\n",
       "\t\tstroke-width: 1px;\n",
       "\t\t}\n",
       "\n",
       "\t\t.edgePath path {\n",
       "\t\tstroke: #333;\n",
       "\t\tfill: #333;\n",
       "\t\tstroke-width: 1.5px;\n",
       "\t\t}\n",
       "\t\t</style>\n",
       "\t\t<center><svg width=\"850\" height=\"600\" id=\"fst_a20f67da2afa43bca9fbb66253925548\"><g/></svg></center>\n",
       "\t\t<script>\n",
       "\t\t(function render_d3() {\n",
       "\t\tvar d3, dagreD3;\n",
       "\t\ttry { // requirejs is broken on external domains\n",
       "\t\t  d3 = require('d3');\n",
       "\t\t  dagreD3 = require('dagreD3');\n",
       "\t\t} catch (e) {\n",
       "\t\t  // for google colab\n",
       "\t\t  if(typeof window.d3 !== \"undefined\" && typeof window.dagreD3 !== \"undefined\") {\n",
       "\t\t\td3 = window.d3;\n",
       "\t\t\tdagreD3 = window.dagreD3;\n",
       "\t\t  } else { // not loaded yet, so wait and try again\n",
       "\t\t\tsetTimeout(render_d3, 50);\n",
       "\t\t\treturn;\n",
       "\t\t  }\n",
       "\t\t}\n",
       "\t\t//alert(\"loaded\");\n",
       "\t\tvar g = new dagreD3.graphlib.Graph().setGraph({ 'rankdir': 'LR' });\n",
       "\t\tg.setNode(\"3\", { label: \"3 / True\" , shape: \"circle\" });\n",
       "g.node(\"3\").style = \"fill: #66c2a5\"; \n",
       "g.setNode(\"8\", { label: \"8\" , shape: \"circle\" });\n",
       "g.node(\"8\").style = \"fill: #8da0cb\"; \n",
       "g.setNode(\"5\", { label: \"5\" , shape: \"circle\" });\n",
       "g.node(\"5\").style = \"fill: #8da0cb\"; \n",
       "g.setNode(\"2\", { label: \"2 / True\" , shape: \"circle\" });\n",
       "g.node(\"2\").style = \"fill: #fc8d62\"; \n",
       "g.setNode(\"7\", { label: \"7 / True\" , shape: \"circle\" });\n",
       "g.node(\"7\").style = \"fill: #fc8d62\"; \n",
       "g.setEdge(\"2\", \"8\", { arrowhead: \"vee\", label: \"a / True\" });\n",
       "g.setEdge(\"3\", \"5\", { arrowhead: \"vee\", label: \"c / True\" });\n",
       "g.setEdge(\"3\", \"7\", { arrowhead: \"vee\", label: \"a / True\" });\n",
       "g.setEdge(\"5\", \"2\", { arrowhead: \"vee\", label: \"a / True\" });\n",
       "g.setEdge(\"5\", \"7\", { arrowhead: \"vee\", label: \"a / True\" });\n",
       "var svg = d3.select(\"#fst_a20f67da2afa43bca9fbb66253925548\"); \n",
       "\n",
       "\t\tvar inner = svg.select(\"g\");\n",
       "\n",
       "\t\t// Set up zoom support\n",
       "\t\tvar zoom = d3.zoom().scaleExtent([0.3, 5]).on(\"zoom\", function() {\n",
       "\t\tinner.attr(\"transform\", d3.event.transform);\n",
       "\t\t});\n",
       "\t\tsvg.call(zoom);\n",
       "\n",
       "\t\t// Create the renderer\n",
       "\t\tvar render = new dagreD3.render();\n",
       "\n",
       "\t\t// Run the renderer. This is what draws the final graph.\n",
       "\t\trender(inner, g);\n",
       "\n",
       "\t\t// Center the graph\n",
       "\t\tvar initialScale = 0.75;\n",
       "\t\tsvg.call(zoom.transform, d3.zoomIdentity.translate(\n",
       "\t\t    (svg.attr(\"width\") - g.graph().width * initialScale) / 2, 20).scale(initialScale));\n",
       "\n",
       "\t\tsvg.attr('height', g.graph().height * initialScale + 50);\n",
       "\t\t})();\n",
       "\n",
       "\t\t</script>\n",
       "\t\t"
      ],
      "text/plain": [
       "WFSA(5 states, <class 'rayuela.base.semiring.Boolean'>)"
      ]
     },
     "execution_count": 51,
     "metadata": {},
     "output_type": "execute_result"
    }
   ],
   "source": [
    "fsa = FSA(R=Boolean)\n",
    "\n",
    "fsa.add_arc(State(2), Sym('a'), State(8))\n",
    "\n",
    "fsa.add_arc(State(3), Sym('c'), State(5))\n",
    "fsa.add_arc(State(3), Sym('a'), State(7))\n",
    "\n",
    "fsa.add_arc(State(5), Sym('a'), State(2))\n",
    "fsa.add_arc(State(5), Sym('a'), State(7))\n",
    "\n",
    "fsa.set_I(State(3))\n",
    "fsa.set_F(State(2))\n",
    "fsa.set_F(State(7))\n",
    "\n",
    "fsa"
   ]
  },
  {
   "cell_type": "code",
   "execution_count": 52,
   "metadata": {},
   "outputs": [
    {
     "name": "stdout",
     "output_type": "stream",
     "text": [
      "{(3, 8): True,\n",
      " (2, 2): True,\n",
      " (8, 7): False,\n",
      " (7, 8): False,\n",
      " (7, 7): True,\n",
      " (7, 3): False,\n",
      " (3, 7): True,\n",
      " (3, 3): True,\n",
      " (2, 7): False,\n",
      " (2, 3): False,\n",
      " (2, 5): False,\n",
      " (7, 2): False,\n",
      " (5, 3): False,\n",
      " (8, 5): False,\n",
      " (5, 8): True,\n",
      " (8, 3): False,\n",
      " (7, 5): False,\n",
      " (3, 5): True,\n",
      " (5, 7): True,\n",
      " (8, 2): False,\n",
      " (8, 8): True,\n",
      " (2, 8): True,\n",
      " (5, 2): True,\n",
      " (3, 2): True,\n",
      " (5, 5): True}\n"
     ]
    }
   ],
   "source": [
    "pprint(Pathsum(fsa).lehmann())"
   ]
  },
  {
   "cell_type": "markdown",
   "metadata": {},
   "source": [
    "#### A self-loop"
   ]
  },
  {
   "cell_type": "code",
   "execution_count": 53,
   "metadata": {},
   "outputs": [
    {
     "data": {
      "text/html": [
       "\n",
       "\t\t<script>\n",
       "\t\ttry {\n",
       "\t\trequire.config({\n",
       "\t\tpaths: {\n",
       "\t\t\"d3\": \"https://cdnjs.cloudflare.com/ajax/libs/d3/4.13.0/d3\",\n",
       "\t\t\"dagreD3\": \"https://cdnjs.cloudflare.com/ajax/libs/dagre-d3/0.6.1/dagre-d3.min\"\n",
       "\t\t}\n",
       "\t\t});\n",
       "\t\t} catch {\n",
       "\t\t  [\"https://cdnjs.cloudflare.com/ajax/libs/d3/4.13.0/d3.js\",\n",
       "\t\t   \"https://cdnjs.cloudflare.com/ajax/libs/dagre-d3/0.6.1/dagre-d3.min.js\"].forEach(function (src) {\n",
       "\t\t\tvar tag = document.createElement('script');\n",
       "\t\t\ttag.src = src;\n",
       "\t\t\tdocument.body.appendChild(tag);\n",
       "\t\t  })\n",
       "\t\t}\n",
       "\t\ttry {\n",
       "\t\trequirejs(['d3', 'dagreD3'], function() {});\n",
       "\t\t} catch (e) {}\n",
       "\t\ttry {\n",
       "\t\trequire(['d3', 'dagreD3'], function() {});\n",
       "\t\t} catch (e) {}\n",
       "\t\t</script>\n",
       "\t\t<style>\n",
       "\t\t.node rect,\n",
       "\t\t.node circle,\n",
       "\t\t.node ellipse {\n",
       "\t\tstroke: #333;\n",
       "\t\tfill: #fff;\n",
       "\t\tstroke-width: 1px;\n",
       "\t\t}\n",
       "\n",
       "\t\t.edgePath path {\n",
       "\t\tstroke: #333;\n",
       "\t\tfill: #333;\n",
       "\t\tstroke-width: 1.5px;\n",
       "\t\t}\n",
       "\t\t</style>\n",
       "\t\t<center><svg width=\"850\" height=\"600\" id=\"fst_208771a2ea654db9963447468e231362\"><g/></svg></center>\n",
       "\t\t<script>\n",
       "\t\t(function render_d3() {\n",
       "\t\tvar d3, dagreD3;\n",
       "\t\ttry { // requirejs is broken on external domains\n",
       "\t\t  d3 = require('d3');\n",
       "\t\t  dagreD3 = require('dagreD3');\n",
       "\t\t} catch (e) {\n",
       "\t\t  // for google colab\n",
       "\t\t  if(typeof window.d3 !== \"undefined\" && typeof window.dagreD3 !== \"undefined\") {\n",
       "\t\t\td3 = window.d3;\n",
       "\t\t\tdagreD3 = window.dagreD3;\n",
       "\t\t  } else { // not loaded yet, so wait and try again\n",
       "\t\t\tsetTimeout(render_d3, 50);\n",
       "\t\t\treturn;\n",
       "\t\t  }\n",
       "\t\t}\n",
       "\t\t//alert(\"loaded\");\n",
       "\t\tvar g = new dagreD3.graphlib.Graph().setGraph({ 'rankdir': 'LR' });\n",
       "\t\tg.setNode(\"3\", { label: \"3 / True\" , shape: \"circle\" });\n",
       "g.node(\"3\").style = \"fill: #66c2a5\"; \n",
       "g.setNode(\"8\", { label: \"8\" , shape: \"circle\" });\n",
       "g.node(\"8\").style = \"fill: #8da0cb\"; \n",
       "g.setNode(\"5\", { label: \"5\" , shape: \"circle\" });\n",
       "g.node(\"5\").style = \"fill: #8da0cb\"; \n",
       "g.setNode(\"2\", { label: \"2 / True\" , shape: \"circle\" });\n",
       "g.node(\"2\").style = \"fill: #fc8d62\"; \n",
       "g.setNode(\"7\", { label: \"7 / True\" , shape: \"circle\" });\n",
       "g.node(\"7\").style = \"fill: #fc8d62\"; \n",
       "g.setEdge(\"2\", \"8\", { arrowhead: \"vee\", label: \"a / True\" });\n",
       "g.setEdge(\"3\", \"5\", { arrowhead: \"vee\", label: \"c / True\" });\n",
       "g.setEdge(\"3\", \"7\", { arrowhead: \"vee\", label: \"a / True\" });\n",
       "g.setEdge(\"5\", \"2\", { arrowhead: \"vee\", label: \"a / True\" });\n",
       "g.setEdge(\"5\", \"5\", { arrowhead: \"vee\", label: \"a / True\" });\n",
       "g.setEdge(\"5\", \"7\", { arrowhead: \"vee\", label: \"a / True\" });\n",
       "var svg = d3.select(\"#fst_208771a2ea654db9963447468e231362\"); \n",
       "\n",
       "\t\tvar inner = svg.select(\"g\");\n",
       "\n",
       "\t\t// Set up zoom support\n",
       "\t\tvar zoom = d3.zoom().scaleExtent([0.3, 5]).on(\"zoom\", function() {\n",
       "\t\tinner.attr(\"transform\", d3.event.transform);\n",
       "\t\t});\n",
       "\t\tsvg.call(zoom);\n",
       "\n",
       "\t\t// Create the renderer\n",
       "\t\tvar render = new dagreD3.render();\n",
       "\n",
       "\t\t// Run the renderer. This is what draws the final graph.\n",
       "\t\trender(inner, g);\n",
       "\n",
       "\t\t// Center the graph\n",
       "\t\tvar initialScale = 0.75;\n",
       "\t\tsvg.call(zoom.transform, d3.zoomIdentity.translate(\n",
       "\t\t    (svg.attr(\"width\") - g.graph().width * initialScale) / 2, 20).scale(initialScale));\n",
       "\n",
       "\t\tsvg.attr('height', g.graph().height * initialScale + 50);\n",
       "\t\t})();\n",
       "\n",
       "\t\t</script>\n",
       "\t\t"
      ],
      "text/plain": [
       "WFSA(5 states, <class 'rayuela.base.semiring.Boolean'>)"
      ]
     },
     "execution_count": 53,
     "metadata": {},
     "output_type": "execute_result"
    }
   ],
   "source": [
    "fsa = FSA(R=Boolean)\n",
    "\n",
    "fsa.add_arc(State(2), Sym('a'), State(8))\n",
    "\n",
    "fsa.add_arc(State(3), Sym('c'), State(5))\n",
    "fsa.add_arc(State(3), Sym('a'), State(7))\n",
    "\n",
    "fsa.add_arc(State(5), Sym('a'), State(2))\n",
    "fsa.add_arc(State(5), Sym('a'), State(5))\n",
    "fsa.add_arc(State(5), Sym('a'), State(7))\n",
    "\n",
    "fsa.set_I(State(3))\n",
    "fsa.set_F(State(2))\n",
    "fsa.set_F(State(7))\n",
    "\n",
    "fsa"
   ]
  },
  {
   "cell_type": "code",
   "execution_count": 54,
   "metadata": {},
   "outputs": [
    {
     "name": "stdout",
     "output_type": "stream",
     "text": [
      "{(8, 7): False,\n",
      " (3, 2): True,\n",
      " (3, 8): True,\n",
      " (2, 2): True,\n",
      " (7, 8): False,\n",
      " (5, 5): True,\n",
      " (8, 8): True,\n",
      " (2, 3): False,\n",
      " (8, 5): False,\n",
      " (3, 7): True,\n",
      " (7, 5): False,\n",
      " (2, 7): False,\n",
      " (7, 2): False,\n",
      " (5, 8): True,\n",
      " (3, 5): True,\n",
      " (7, 7): True,\n",
      " (2, 5): False,\n",
      " (2, 8): True,\n",
      " (5, 3): False,\n",
      " (5, 7): True,\n",
      " (3, 3): True,\n",
      " (5, 2): True,\n",
      " (8, 2): False,\n",
      " (8, 3): False,\n",
      " (7, 3): False}\n"
     ]
    }
   ],
   "source": [
    "pprint(Pathsum(fsa).lehmann())"
   ]
  },
  {
   "cell_type": "markdown",
   "metadata": {},
   "source": [
    "#### A cycle"
   ]
  },
  {
   "cell_type": "code",
   "execution_count": 56,
   "metadata": {},
   "outputs": [
    {
     "data": {
      "text/html": [
       "\n",
       "\t\t<script>\n",
       "\t\ttry {\n",
       "\t\trequire.config({\n",
       "\t\tpaths: {\n",
       "\t\t\"d3\": \"https://cdnjs.cloudflare.com/ajax/libs/d3/4.13.0/d3\",\n",
       "\t\t\"dagreD3\": \"https://cdnjs.cloudflare.com/ajax/libs/dagre-d3/0.6.1/dagre-d3.min\"\n",
       "\t\t}\n",
       "\t\t});\n",
       "\t\t} catch {\n",
       "\t\t  [\"https://cdnjs.cloudflare.com/ajax/libs/d3/4.13.0/d3.js\",\n",
       "\t\t   \"https://cdnjs.cloudflare.com/ajax/libs/dagre-d3/0.6.1/dagre-d3.min.js\"].forEach(function (src) {\n",
       "\t\t\tvar tag = document.createElement('script');\n",
       "\t\t\ttag.src = src;\n",
       "\t\t\tdocument.body.appendChild(tag);\n",
       "\t\t  })\n",
       "\t\t}\n",
       "\t\ttry {\n",
       "\t\trequirejs(['d3', 'dagreD3'], function() {});\n",
       "\t\t} catch (e) {}\n",
       "\t\ttry {\n",
       "\t\trequire(['d3', 'dagreD3'], function() {});\n",
       "\t\t} catch (e) {}\n",
       "\t\t</script>\n",
       "\t\t<style>\n",
       "\t\t.node rect,\n",
       "\t\t.node circle,\n",
       "\t\t.node ellipse {\n",
       "\t\tstroke: #333;\n",
       "\t\tfill: #fff;\n",
       "\t\tstroke-width: 1px;\n",
       "\t\t}\n",
       "\n",
       "\t\t.edgePath path {\n",
       "\t\tstroke: #333;\n",
       "\t\tfill: #333;\n",
       "\t\tstroke-width: 1.5px;\n",
       "\t\t}\n",
       "\t\t</style>\n",
       "\t\t<center><svg width=\"850\" height=\"600\" id=\"fst_1780a2af52e14dd99d5a85c56fcad7f0\"><g/></svg></center>\n",
       "\t\t<script>\n",
       "\t\t(function render_d3() {\n",
       "\t\tvar d3, dagreD3;\n",
       "\t\ttry { // requirejs is broken on external domains\n",
       "\t\t  d3 = require('d3');\n",
       "\t\t  dagreD3 = require('dagreD3');\n",
       "\t\t} catch (e) {\n",
       "\t\t  // for google colab\n",
       "\t\t  if(typeof window.d3 !== \"undefined\" && typeof window.dagreD3 !== \"undefined\") {\n",
       "\t\t\td3 = window.d3;\n",
       "\t\t\tdagreD3 = window.dagreD3;\n",
       "\t\t  } else { // not loaded yet, so wait and try again\n",
       "\t\t\tsetTimeout(render_d3, 50);\n",
       "\t\t\treturn;\n",
       "\t\t  }\n",
       "\t\t}\n",
       "\t\t//alert(\"loaded\");\n",
       "\t\tvar g = new dagreD3.graphlib.Graph().setGraph({ 'rankdir': 'LR' });\n",
       "\t\tg.setNode(\"3\", { label: \"3 / True\" , shape: \"circle\" });\n",
       "g.node(\"3\").style = \"fill: #66c2a5\"; \n",
       "g.setNode(\"8\", { label: \"8\" , shape: \"circle\" });\n",
       "g.node(\"8\").style = \"fill: #8da0cb\"; \n",
       "g.setNode(\"5\", { label: \"5\" , shape: \"circle\" });\n",
       "g.node(\"5\").style = \"fill: #8da0cb\"; \n",
       "g.setNode(\"2\", { label: \"2 / True\" , shape: \"circle\" });\n",
       "g.node(\"2\").style = \"fill: #fc8d62\"; \n",
       "g.setNode(\"7\", { label: \"7 / True\" , shape: \"circle\" });\n",
       "g.node(\"7\").style = \"fill: #fc8d62\"; \n",
       "g.setEdge(\"2\", \"8\", { arrowhead: \"vee\", label: \"a / True\" });\n",
       "g.setEdge(\"3\", \"5\", { arrowhead: \"vee\", label: \"c / True\" });\n",
       "g.setEdge(\"3\", \"7\", { arrowhead: \"vee\", label: \"a / True\" });\n",
       "g.setEdge(\"5\", \"2\", { arrowhead: \"vee\", label: \"a / True\" });\n",
       "g.setEdge(\"7\", \"5\", { arrowhead: \"vee\", label: \"a / True\" });\n",
       "g.setEdge(\"8\", \"7\", { arrowhead: \"vee\", label: \"a / True\" });\n",
       "var svg = d3.select(\"#fst_1780a2af52e14dd99d5a85c56fcad7f0\"); \n",
       "\n",
       "\t\tvar inner = svg.select(\"g\");\n",
       "\n",
       "\t\t// Set up zoom support\n",
       "\t\tvar zoom = d3.zoom().scaleExtent([0.3, 5]).on(\"zoom\", function() {\n",
       "\t\tinner.attr(\"transform\", d3.event.transform);\n",
       "\t\t});\n",
       "\t\tsvg.call(zoom);\n",
       "\n",
       "\t\t// Create the renderer\n",
       "\t\tvar render = new dagreD3.render();\n",
       "\n",
       "\t\t// Run the renderer. This is what draws the final graph.\n",
       "\t\trender(inner, g);\n",
       "\n",
       "\t\t// Center the graph\n",
       "\t\tvar initialScale = 0.75;\n",
       "\t\tsvg.call(zoom.transform, d3.zoomIdentity.translate(\n",
       "\t\t    (svg.attr(\"width\") - g.graph().width * initialScale) / 2, 20).scale(initialScale));\n",
       "\n",
       "\t\tsvg.attr('height', g.graph().height * initialScale + 50);\n",
       "\t\t})();\n",
       "\n",
       "\t\t</script>\n",
       "\t\t"
      ],
      "text/plain": [
       "WFSA(5 states, <class 'rayuela.base.semiring.Boolean'>)"
      ]
     },
     "execution_count": 56,
     "metadata": {},
     "output_type": "execute_result"
    }
   ],
   "source": [
    "fsa = FSA(R=Boolean)\n",
    "\n",
    "fsa.add_arc(State(2), Sym('a'), State(8))\n",
    "\n",
    "fsa.add_arc(State(3), Sym('c'), State(5))\n",
    "fsa.add_arc(State(3), Sym('a'), State(7))\n",
    "\n",
    "fsa.add_arc(State(5), Sym('a'), State(2))\n",
    "\n",
    "fsa.add_arc(State(7), Sym('a'), State(5))\n",
    "\n",
    "fsa.add_arc(State(8), Sym('a'), State(7))\n",
    "\n",
    "fsa.set_I(State(3))\n",
    "fsa.set_F(State(2))\n",
    "fsa.set_F(State(7))\n",
    "\n",
    "fsa"
   ]
  },
  {
   "cell_type": "code",
   "execution_count": 57,
   "metadata": {},
   "outputs": [
    {
     "name": "stdout",
     "output_type": "stream",
     "text": [
      "{(2, 2): True,\n",
      " (3, 8): True,\n",
      " (7, 8): True,\n",
      " (3, 2): True,\n",
      " (7, 5): True,\n",
      " (5, 2): True,\n",
      " (8, 8): True,\n",
      " (5, 7): True,\n",
      " (5, 8): True,\n",
      " (5, 5): True,\n",
      " (8, 2): True,\n",
      " (7, 2): True,\n",
      " (2, 7): True,\n",
      " (2, 5): True,\n",
      " (3, 5): True,\n",
      " (3, 3): True,\n",
      " (2, 8): True,\n",
      " (3, 7): True,\n",
      " (8, 3): False,\n",
      " (5, 3): False,\n",
      " (7, 7): True,\n",
      " (7, 3): False,\n",
      " (2, 3): False,\n",
      " (8, 5): True,\n",
      " (8, 7): True}\n"
     ]
    }
   ],
   "source": [
    "pprint(Pathsum(fsa).lehmann())"
   ]
  },
  {
   "cell_type": "markdown",
   "metadata": {},
   "source": [
    "The entire matrix also shows which nodes are definitely *not* in the same strongly connected component"
   ]
  },
  {
   "cell_type": "markdown",
   "metadata": {},
   "source": [
    "### Pathsum by Lehmann"
   ]
  },
  {
   "cell_type": "markdown",
   "metadata": {},
   "source": [
    "#### Acyclic"
   ]
  },
  {
   "cell_type": "code",
   "execution_count": 25,
   "metadata": {},
   "outputs": [
    {
     "data": {
      "text/html": [
       "\n",
       "\t\t<script>\n",
       "\t\ttry {\n",
       "\t\trequire.config({\n",
       "\t\tpaths: {\n",
       "\t\t\"d3\": \"https://cdnjs.cloudflare.com/ajax/libs/d3/4.13.0/d3\",\n",
       "\t\t\"dagreD3\": \"https://cdnjs.cloudflare.com/ajax/libs/dagre-d3/0.6.1/dagre-d3.min\"\n",
       "\t\t}\n",
       "\t\t});\n",
       "\t\t} catch {\n",
       "\t\t  [\"https://cdnjs.cloudflare.com/ajax/libs/d3/4.13.0/d3.js\",\n",
       "\t\t   \"https://cdnjs.cloudflare.com/ajax/libs/dagre-d3/0.6.1/dagre-d3.min.js\"].forEach(function (src) {\n",
       "\t\t\tvar tag = document.createElement('script');\n",
       "\t\t\ttag.src = src;\n",
       "\t\t\tdocument.body.appendChild(tag);\n",
       "\t\t  })\n",
       "\t\t}\n",
       "\t\ttry {\n",
       "\t\trequirejs(['d3', 'dagreD3'], function() {});\n",
       "\t\t} catch (e) {}\n",
       "\t\ttry {\n",
       "\t\trequire(['d3', 'dagreD3'], function() {});\n",
       "\t\t} catch (e) {}\n",
       "\t\t</script>\n",
       "\t\t<style>\n",
       "\t\t.node rect,\n",
       "\t\t.node circle,\n",
       "\t\t.node ellipse {\n",
       "\t\tstroke: #333;\n",
       "\t\tfill: #fff;\n",
       "\t\tstroke-width: 1px;\n",
       "\t\t}\n",
       "\n",
       "\t\t.edgePath path {\n",
       "\t\tstroke: #333;\n",
       "\t\tfill: #333;\n",
       "\t\tstroke-width: 1.5px;\n",
       "\t\t}\n",
       "\t\t</style>\n",
       "\t\t<center><svg width=\"850\" height=\"600\" id=\"fst_b82d6c829530480687336b82f248546b\"><g/></svg></center>\n",
       "\t\t<script>\n",
       "\t\t(function render_d3() {\n",
       "\t\tvar d3, dagreD3;\n",
       "\t\ttry { // requirejs is broken on external domains\n",
       "\t\t  d3 = require('d3');\n",
       "\t\t  dagreD3 = require('dagreD3');\n",
       "\t\t} catch (e) {\n",
       "\t\t  // for google colab\n",
       "\t\t  if(typeof window.d3 !== \"undefined\" && typeof window.dagreD3 !== \"undefined\") {\n",
       "\t\t\td3 = window.d3;\n",
       "\t\t\tdagreD3 = window.dagreD3;\n",
       "\t\t  } else { // not loaded yet, so wait and try again\n",
       "\t\t\tsetTimeout(render_d3, 50);\n",
       "\t\t\treturn;\n",
       "\t\t  }\n",
       "\t\t}\n",
       "\t\t//alert(\"loaded\");\n",
       "\t\tvar g = new dagreD3.graphlib.Graph().setGraph({ 'rankdir': 'LR' });\n",
       "\t\tg.setNode(\"3\", { label: \"3 / 0.3\" , shape: \"circle\" });\n",
       "g.node(\"3\").style = \"fill: #66c2a5\"; \n",
       "g.setNode(\"8\", { label: \"8\" , shape: \"circle\" });\n",
       "g.node(\"8\").style = \"fill: #8da0cb\"; \n",
       "g.setNode(\"5\", { label: \"5\" , shape: \"circle\" });\n",
       "g.node(\"5\").style = \"fill: #8da0cb\"; \n",
       "g.setNode(\"2\", { label: \"2 / 0.4\" , shape: \"circle\" });\n",
       "g.node(\"2\").style = \"fill: #fc8d62\"; \n",
       "g.setNode(\"7\", { label: \"7 / 0.2\" , shape: \"circle\" });\n",
       "g.node(\"7\").style = \"fill: #fc8d62\"; \n",
       "g.setEdge(\"2\", \"8\", { arrowhead: \"vee\", label: \"a / 0.1\" });\n",
       "g.setEdge(\"3\", \"5\", { arrowhead: \"vee\", label: \"c / 0.4\" });\n",
       "g.setEdge(\"3\", \"7\", { arrowhead: \"vee\", label: \"a / 0.7\" });\n",
       "g.setEdge(\"5\", \"2\", { arrowhead: \"vee\", label: \"a / 0.3\" });\n",
       "g.setEdge(\"5\", \"7\", { arrowhead: \"vee\", label: \"a / 0.8\" });\n",
       "var svg = d3.select(\"#fst_b82d6c829530480687336b82f248546b\"); \n",
       "\n",
       "\t\tvar inner = svg.select(\"g\");\n",
       "\n",
       "\t\t// Set up zoom support\n",
       "\t\tvar zoom = d3.zoom().scaleExtent([0.3, 5]).on(\"zoom\", function() {\n",
       "\t\tinner.attr(\"transform\", d3.event.transform);\n",
       "\t\t});\n",
       "\t\tsvg.call(zoom);\n",
       "\n",
       "\t\t// Create the renderer\n",
       "\t\tvar render = new dagreD3.render();\n",
       "\n",
       "\t\t// Run the renderer. This is what draws the final graph.\n",
       "\t\trender(inner, g);\n",
       "\n",
       "\t\t// Center the graph\n",
       "\t\tvar initialScale = 0.75;\n",
       "\t\tsvg.call(zoom.transform, d3.zoomIdentity.translate(\n",
       "\t\t    (svg.attr(\"width\") - g.graph().width * initialScale) / 2, 20).scale(initialScale));\n",
       "\n",
       "\t\tsvg.attr('height', g.graph().height * initialScale + 50);\n",
       "\t\t})();\n",
       "\n",
       "\t\t</script>\n",
       "\t\t"
      ],
      "text/plain": [
       "WFSA(5 states, <class 'rayuela.base.semiring.Real'>)"
      ]
     },
     "execution_count": 25,
     "metadata": {},
     "output_type": "execute_result"
    }
   ],
   "source": [
    "fsa = FSA(R=Real)\n",
    "\n",
    "fsa.add_arc(State(2), Sym('a'), State(8), Real(0.1))\n",
    "\n",
    "fsa.add_arc(State(3), Sym('c'), State(5), Real(0.4))\n",
    "fsa.add_arc(State(3), Sym('a'), State(7), Real(0.7))\n",
    "\n",
    "fsa.add_arc(State(5), Sym('a'), State(2), Real(0.3))\n",
    "fsa.add_arc(State(5), Sym('a'), State(7), Real(0.8))\n",
    "\n",
    "fsa.set_I(State(3), Real(0.3))\n",
    "fsa.set_F(State(2), Real(0.4))\n",
    "fsa.set_F(State(7), Real(0.2))\n",
    "\n",
    "fsa"
   ]
  },
  {
   "cell_type": "code",
   "execution_count": 26,
   "metadata": {},
   "outputs": [
    {
     "name": "stdout",
     "output_type": "stream",
     "text": [
      "{(2, 5): 0.0,\n",
      " (5, 2): 0.3,\n",
      " (2, 8): 0.1,\n",
      " (7, 3): 0.0,\n",
      " (3, 3): 1.0,\n",
      " (8, 8): 1.0,\n",
      " (7, 2): 0.0,\n",
      " (3, 8): 0.012,\n",
      " (2, 7): 0.0,\n",
      " (5, 5): 1.0,\n",
      " (7, 7): 1.0,\n",
      " (2, 3): 0.0,\n",
      " (5, 8): 0.03,\n",
      " (3, 7): 1.02,\n",
      " (3, 5): 0.4,\n",
      " (2, 2): 1.0,\n",
      " (8, 5): 0.0,\n",
      " (8, 3): 0.0,\n",
      " (8, 2): 0.0,\n",
      " (3, 2): 0.12,\n",
      " (8, 7): 0.0,\n",
      " (5, 7): 0.8,\n",
      " (7, 5): 0.0,\n",
      " (7, 8): 0.0,\n",
      " (5, 3): 0.0}\n"
     ]
    }
   ],
   "source": [
    "pprint(Pathsum(fsa).lehmann())"
   ]
  },
  {
   "cell_type": "code",
   "execution_count": 27,
   "metadata": {},
   "outputs": [
    {
     "name": "stdout",
     "output_type": "stream",
     "text": [
      "0.0756\n"
     ]
    }
   ],
   "source": [
    "pprint(Pathsum(fsa).pathsum(strategy=Strategy.LEHMANN))"
   ]
  },
  {
   "cell_type": "markdown",
   "metadata": {},
   "source": [
    "#### A self-loop"
   ]
  },
  {
   "cell_type": "code",
   "execution_count": 28,
   "metadata": {},
   "outputs": [
    {
     "data": {
      "text/html": [
       "\n",
       "\t\t<script>\n",
       "\t\ttry {\n",
       "\t\trequire.config({\n",
       "\t\tpaths: {\n",
       "\t\t\"d3\": \"https://cdnjs.cloudflare.com/ajax/libs/d3/4.13.0/d3\",\n",
       "\t\t\"dagreD3\": \"https://cdnjs.cloudflare.com/ajax/libs/dagre-d3/0.6.1/dagre-d3.min\"\n",
       "\t\t}\n",
       "\t\t});\n",
       "\t\t} catch {\n",
       "\t\t  [\"https://cdnjs.cloudflare.com/ajax/libs/d3/4.13.0/d3.js\",\n",
       "\t\t   \"https://cdnjs.cloudflare.com/ajax/libs/dagre-d3/0.6.1/dagre-d3.min.js\"].forEach(function (src) {\n",
       "\t\t\tvar tag = document.createElement('script');\n",
       "\t\t\ttag.src = src;\n",
       "\t\t\tdocument.body.appendChild(tag);\n",
       "\t\t  })\n",
       "\t\t}\n",
       "\t\ttry {\n",
       "\t\trequirejs(['d3', 'dagreD3'], function() {});\n",
       "\t\t} catch (e) {}\n",
       "\t\ttry {\n",
       "\t\trequire(['d3', 'dagreD3'], function() {});\n",
       "\t\t} catch (e) {}\n",
       "\t\t</script>\n",
       "\t\t<style>\n",
       "\t\t.node rect,\n",
       "\t\t.node circle,\n",
       "\t\t.node ellipse {\n",
       "\t\tstroke: #333;\n",
       "\t\tfill: #fff;\n",
       "\t\tstroke-width: 1px;\n",
       "\t\t}\n",
       "\n",
       "\t\t.edgePath path {\n",
       "\t\tstroke: #333;\n",
       "\t\tfill: #333;\n",
       "\t\tstroke-width: 1.5px;\n",
       "\t\t}\n",
       "\t\t</style>\n",
       "\t\t<center><svg width=\"850\" height=\"600\" id=\"fst_7be030a03b5843658465fb2f183f3d7f\"><g/></svg></center>\n",
       "\t\t<script>\n",
       "\t\t(function render_d3() {\n",
       "\t\tvar d3, dagreD3;\n",
       "\t\ttry { // requirejs is broken on external domains\n",
       "\t\t  d3 = require('d3');\n",
       "\t\t  dagreD3 = require('dagreD3');\n",
       "\t\t} catch (e) {\n",
       "\t\t  // for google colab\n",
       "\t\t  if(typeof window.d3 !== \"undefined\" && typeof window.dagreD3 !== \"undefined\") {\n",
       "\t\t\td3 = window.d3;\n",
       "\t\t\tdagreD3 = window.dagreD3;\n",
       "\t\t  } else { // not loaded yet, so wait and try again\n",
       "\t\t\tsetTimeout(render_d3, 50);\n",
       "\t\t\treturn;\n",
       "\t\t  }\n",
       "\t\t}\n",
       "\t\t//alert(\"loaded\");\n",
       "\t\tvar g = new dagreD3.graphlib.Graph().setGraph({ 'rankdir': 'LR' });\n",
       "\t\tg.setNode(\"3\", { label: \"3 / 0.3\" , shape: \"circle\" });\n",
       "g.node(\"3\").style = \"fill: #66c2a5\"; \n",
       "g.setNode(\"8\", { label: \"8\" , shape: \"circle\" });\n",
       "g.node(\"8\").style = \"fill: #8da0cb\"; \n",
       "g.setNode(\"5\", { label: \"5\" , shape: \"circle\" });\n",
       "g.node(\"5\").style = \"fill: #8da0cb\"; \n",
       "g.setNode(\"2\", { label: \"2 / 0.4\" , shape: \"circle\" });\n",
       "g.node(\"2\").style = \"fill: #fc8d62\"; \n",
       "g.setNode(\"7\", { label: \"7 / 0.2\" , shape: \"circle\" });\n",
       "g.node(\"7\").style = \"fill: #fc8d62\"; \n",
       "g.setEdge(\"2\", \"8\", { arrowhead: \"vee\", label: \"a / 0.1\" });\n",
       "g.setEdge(\"3\", \"5\", { arrowhead: \"vee\", label: \"c / 0.4\" });\n",
       "g.setEdge(\"3\", \"7\", { arrowhead: \"vee\", label: \"a / 0.7\" });\n",
       "g.setEdge(\"5\", \"2\", { arrowhead: \"vee\", label: \"a / 0.3\" });\n",
       "g.setEdge(\"5\", \"5\", { arrowhead: \"vee\", label: \"a / 0.9\" });\n",
       "g.setEdge(\"5\", \"7\", { arrowhead: \"vee\", label: \"a / 0.8\" });\n",
       "var svg = d3.select(\"#fst_7be030a03b5843658465fb2f183f3d7f\"); \n",
       "\n",
       "\t\tvar inner = svg.select(\"g\");\n",
       "\n",
       "\t\t// Set up zoom support\n",
       "\t\tvar zoom = d3.zoom().scaleExtent([0.3, 5]).on(\"zoom\", function() {\n",
       "\t\tinner.attr(\"transform\", d3.event.transform);\n",
       "\t\t});\n",
       "\t\tsvg.call(zoom);\n",
       "\n",
       "\t\t// Create the renderer\n",
       "\t\tvar render = new dagreD3.render();\n",
       "\n",
       "\t\t// Run the renderer. This is what draws the final graph.\n",
       "\t\trender(inner, g);\n",
       "\n",
       "\t\t// Center the graph\n",
       "\t\tvar initialScale = 0.75;\n",
       "\t\tsvg.call(zoom.transform, d3.zoomIdentity.translate(\n",
       "\t\t    (svg.attr(\"width\") - g.graph().width * initialScale) / 2, 20).scale(initialScale));\n",
       "\n",
       "\t\tsvg.attr('height', g.graph().height * initialScale + 50);\n",
       "\t\t})();\n",
       "\n",
       "\t\t</script>\n",
       "\t\t"
      ],
      "text/plain": [
       "WFSA(5 states, <class 'rayuela.base.semiring.Real'>)"
      ]
     },
     "execution_count": 28,
     "metadata": {},
     "output_type": "execute_result"
    }
   ],
   "source": [
    "fsa = FSA(R=Real)\n",
    "\n",
    "fsa.add_arc(State(2), Sym('a'), State(8), Real(0.1))\n",
    "\n",
    "fsa.add_arc(State(3), Sym('c'), State(5), Real(0.4))\n",
    "fsa.add_arc(State(3), Sym('a'), State(7), Real(0.7))\n",
    "\n",
    "fsa.add_arc(State(5), Sym('a'), State(2), Real(0.3))\n",
    "fsa.add_arc(State(5), Sym('a'), State(5), Real(0.9))\n",
    "fsa.add_arc(State(5), Sym('a'), State(7), Real(0.8))\n",
    "\n",
    "fsa.set_I(State(3), Real(0.3))\n",
    "fsa.set_F(State(2), Real(0.4))\n",
    "fsa.set_F(State(7), Real(0.2))\n",
    "\n",
    "fsa"
   ]
  },
  {
   "cell_type": "code",
   "execution_count": 29,
   "metadata": {},
   "outputs": [
    {
     "name": "stdout",
     "output_type": "stream",
     "text": [
      "{(2, 8): 0.1,\n",
      " (3, 5): 4.000000000000001,\n",
      " (8, 2): 0.0,\n",
      " (5, 3): 0.0,\n",
      " (7, 3): 0.0,\n",
      " (7, 2): 0.0,\n",
      " (8, 5): 0.0,\n",
      " (7, 5): 0.0,\n",
      " (5, 5): 10.000000000000002,\n",
      " (5, 8): 0.3,\n",
      " (5, 7): 8.000000000000002,\n",
      " (8, 3): 0.0,\n",
      " (3, 8): 0.12,\n",
      " (2, 5): 0.0,\n",
      " (3, 7): 3.900000000000001,\n",
      " (2, 3): 0.0,\n",
      " (7, 7): 1.0,\n",
      " (8, 8): 1.0,\n",
      " (3, 2): 1.2,\n",
      " (2, 2): 1.0,\n",
      " (8, 7): 0.0,\n",
      " (3, 3): 1.0,\n",
      " (5, 2): 3.0,\n",
      " (2, 7): 0.0,\n",
      " (7, 8): 0.0}\n"
     ]
    }
   ],
   "source": [
    "pprint(Pathsum(fsa).lehmann())"
   ]
  },
  {
   "cell_type": "code",
   "execution_count": 30,
   "metadata": {},
   "outputs": [
    {
     "name": "stdout",
     "output_type": "stream",
     "text": [
      "0.378\n"
     ]
    }
   ],
   "source": [
    "pprint(Pathsum(fsa).pathsum(strategy=Strategy.LEHMANN))"
   ]
  },
  {
   "cell_type": "markdown",
   "metadata": {},
   "source": [
    "#### A cycle"
   ]
  },
  {
   "cell_type": "code",
   "execution_count": 31,
   "metadata": {},
   "outputs": [
    {
     "data": {
      "text/html": [
       "\n",
       "\t\t<script>\n",
       "\t\ttry {\n",
       "\t\trequire.config({\n",
       "\t\tpaths: {\n",
       "\t\t\"d3\": \"https://cdnjs.cloudflare.com/ajax/libs/d3/4.13.0/d3\",\n",
       "\t\t\"dagreD3\": \"https://cdnjs.cloudflare.com/ajax/libs/dagre-d3/0.6.1/dagre-d3.min\"\n",
       "\t\t}\n",
       "\t\t});\n",
       "\t\t} catch {\n",
       "\t\t  [\"https://cdnjs.cloudflare.com/ajax/libs/d3/4.13.0/d3.js\",\n",
       "\t\t   \"https://cdnjs.cloudflare.com/ajax/libs/dagre-d3/0.6.1/dagre-d3.min.js\"].forEach(function (src) {\n",
       "\t\t\tvar tag = document.createElement('script');\n",
       "\t\t\ttag.src = src;\n",
       "\t\t\tdocument.body.appendChild(tag);\n",
       "\t\t  })\n",
       "\t\t}\n",
       "\t\ttry {\n",
       "\t\trequirejs(['d3', 'dagreD3'], function() {});\n",
       "\t\t} catch (e) {}\n",
       "\t\ttry {\n",
       "\t\trequire(['d3', 'dagreD3'], function() {});\n",
       "\t\t} catch (e) {}\n",
       "\t\t</script>\n",
       "\t\t<style>\n",
       "\t\t.node rect,\n",
       "\t\t.node circle,\n",
       "\t\t.node ellipse {\n",
       "\t\tstroke: #333;\n",
       "\t\tfill: #fff;\n",
       "\t\tstroke-width: 1px;\n",
       "\t\t}\n",
       "\n",
       "\t\t.edgePath path {\n",
       "\t\tstroke: #333;\n",
       "\t\tfill: #333;\n",
       "\t\tstroke-width: 1.5px;\n",
       "\t\t}\n",
       "\t\t</style>\n",
       "\t\t<center><svg width=\"850\" height=\"600\" id=\"fst_9d769e78bab24ed68af215d2b869d2de\"><g/></svg></center>\n",
       "\t\t<script>\n",
       "\t\t(function render_d3() {\n",
       "\t\tvar d3, dagreD3;\n",
       "\t\ttry { // requirejs is broken on external domains\n",
       "\t\t  d3 = require('d3');\n",
       "\t\t  dagreD3 = require('dagreD3');\n",
       "\t\t} catch (e) {\n",
       "\t\t  // for google colab\n",
       "\t\t  if(typeof window.d3 !== \"undefined\" && typeof window.dagreD3 !== \"undefined\") {\n",
       "\t\t\td3 = window.d3;\n",
       "\t\t\tdagreD3 = window.dagreD3;\n",
       "\t\t  } else { // not loaded yet, so wait and try again\n",
       "\t\t\tsetTimeout(render_d3, 50);\n",
       "\t\t\treturn;\n",
       "\t\t  }\n",
       "\t\t}\n",
       "\t\t//alert(\"loaded\");\n",
       "\t\tvar g = new dagreD3.graphlib.Graph().setGraph({ 'rankdir': 'LR' });\n",
       "\t\tg.setNode(\"3\", { label: \"3 / 0.3\" , shape: \"circle\" });\n",
       "g.node(\"3\").style = \"fill: #66c2a5\"; \n",
       "g.setNode(\"8\", { label: \"8\" , shape: \"circle\" });\n",
       "g.node(\"8\").style = \"fill: #8da0cb\"; \n",
       "g.setNode(\"5\", { label: \"5\" , shape: \"circle\" });\n",
       "g.node(\"5\").style = \"fill: #8da0cb\"; \n",
       "g.setNode(\"2\", { label: \"2 / 0.4\" , shape: \"circle\" });\n",
       "g.node(\"2\").style = \"fill: #fc8d62\"; \n",
       "g.setNode(\"7\", { label: \"7 / 0.2\" , shape: \"circle\" });\n",
       "g.node(\"7\").style = \"fill: #fc8d62\"; \n",
       "g.setEdge(\"2\", \"8\", { arrowhead: \"vee\", label: \"a / 0.1\" });\n",
       "g.setEdge(\"3\", \"5\", { arrowhead: \"vee\", label: \"c / 0.4\" });\n",
       "g.setEdge(\"3\", \"7\", { arrowhead: \"vee\", label: \"a / 0.7\" });\n",
       "g.setEdge(\"5\", \"2\", { arrowhead: \"vee\", label: \"a / 0.3\" });\n",
       "g.setEdge(\"7\", \"5\", { arrowhead: \"vee\", label: \"a / 0.3\" });\n",
       "g.setEdge(\"8\", \"7\", { arrowhead: \"vee\", label: \"a / 0.3\" });\n",
       "var svg = d3.select(\"#fst_9d769e78bab24ed68af215d2b869d2de\"); \n",
       "\n",
       "\t\tvar inner = svg.select(\"g\");\n",
       "\n",
       "\t\t// Set up zoom support\n",
       "\t\tvar zoom = d3.zoom().scaleExtent([0.3, 5]).on(\"zoom\", function() {\n",
       "\t\tinner.attr(\"transform\", d3.event.transform);\n",
       "\t\t});\n",
       "\t\tsvg.call(zoom);\n",
       "\n",
       "\t\t// Create the renderer\n",
       "\t\tvar render = new dagreD3.render();\n",
       "\n",
       "\t\t// Run the renderer. This is what draws the final graph.\n",
       "\t\trender(inner, g);\n",
       "\n",
       "\t\t// Center the graph\n",
       "\t\tvar initialScale = 0.75;\n",
       "\t\tsvg.call(zoom.transform, d3.zoomIdentity.translate(\n",
       "\t\t    (svg.attr(\"width\") - g.graph().width * initialScale) / 2, 20).scale(initialScale));\n",
       "\n",
       "\t\tsvg.attr('height', g.graph().height * initialScale + 50);\n",
       "\t\t})();\n",
       "\n",
       "\t\t</script>\n",
       "\t\t"
      ],
      "text/plain": [
       "WFSA(5 states, <class 'rayuela.base.semiring.Real'>)"
      ]
     },
     "execution_count": 31,
     "metadata": {},
     "output_type": "execute_result"
    }
   ],
   "source": [
    "fsa = FSA(R=Real)\n",
    "\n",
    "fsa.add_arc(State(2), Sym('a'), State(8), Real(0.1))\n",
    "\n",
    "fsa.add_arc(State(3), Sym('c'), State(5), Real(0.4))\n",
    "fsa.add_arc(State(3), Sym('a'), State(7), Real(0.7))\n",
    "\n",
    "fsa.add_arc(State(5), Sym('a'), State(2), Real(0.3))\n",
    "\n",
    "fsa.add_arc(State(7), Sym('a'), State(5), Real(0.3))\n",
    "\n",
    "fsa.add_arc(State(8), Sym('a'), State(7), Real(0.3))\n",
    "\n",
    "fsa.set_I(State(3), Real(0.3))\n",
    "fsa.set_F(State(2), Real(0.4))\n",
    "fsa.set_F(State(7), Real(0.2))\n",
    "\n",
    "fsa"
   ]
  },
  {
   "cell_type": "code",
   "execution_count": 32,
   "metadata": {},
   "outputs": [
    {
     "name": "stdout",
     "output_type": "stream",
     "text": [
      "{(5, 8): 0.030081219292089,\n",
      " (8, 8): 1.002707309736288,\n",
      " (7, 3): 0.0,\n",
      " (7, 8): 0.009024365787627,\n",
      " (7, 5): 0.300812192920886,\n",
      " (7, 2): 0.090243657876266,\n",
      " (2, 5): 0.009024365787627,\n",
      " (3, 2): 0.183495437681741,\n",
      " (7, 7): 1.002707309736288,\n",
      " (2, 7): 0.030081219292089,\n",
      " (2, 3): 0.0,\n",
      " (5, 5): 1.002707309736288,\n",
      " (5, 7): 0.009024365787627,\n",
      " (2, 8): 0.100270730973629,\n",
      " (5, 2): 0.300812192920886,\n",
      " (3, 5): 0.611651458939136,\n",
      " (3, 3): 1.0,\n",
      " (8, 3): 0.0,\n",
      " (8, 7): 0.300812192920886,\n",
      " (5, 3): 0.0,\n",
      " (2, 2): 1.002707309736288,\n",
      " (3, 8): 0.018349543768174,\n",
      " (8, 5): 0.090243657876266,\n",
      " (3, 7): 0.705504863130452,\n",
      " (8, 2): 0.02707309736288}\n"
     ]
    }
   ],
   "source": [
    "pprint(Pathsum(fsa).lehmann())"
   ]
  },
  {
   "cell_type": "code",
   "execution_count": 33,
   "metadata": {},
   "outputs": [
    {
     "name": "stdout",
     "output_type": "stream",
     "text": [
      "0.064349744309636\n"
     ]
    }
   ],
   "source": [
    "pprint(Pathsum(fsa).pathsum(strategy=Strategy.LEHMANN))"
   ]
  },
  {
   "cell_type": "markdown",
   "metadata": {},
   "source": [
    "### Shortest paths by Lehmann (Floyd-Warshall)"
   ]
  },
  {
   "cell_type": "markdown",
   "metadata": {},
   "source": [
    "#### Acyclic"
   ]
  },
  {
   "cell_type": "code",
   "execution_count": 34,
   "metadata": {},
   "outputs": [
    {
     "data": {
      "text/html": [
       "\n",
       "\t\t<script>\n",
       "\t\ttry {\n",
       "\t\trequire.config({\n",
       "\t\tpaths: {\n",
       "\t\t\"d3\": \"https://cdnjs.cloudflare.com/ajax/libs/d3/4.13.0/d3\",\n",
       "\t\t\"dagreD3\": \"https://cdnjs.cloudflare.com/ajax/libs/dagre-d3/0.6.1/dagre-d3.min\"\n",
       "\t\t}\n",
       "\t\t});\n",
       "\t\t} catch {\n",
       "\t\t  [\"https://cdnjs.cloudflare.com/ajax/libs/d3/4.13.0/d3.js\",\n",
       "\t\t   \"https://cdnjs.cloudflare.com/ajax/libs/dagre-d3/0.6.1/dagre-d3.min.js\"].forEach(function (src) {\n",
       "\t\t\tvar tag = document.createElement('script');\n",
       "\t\t\ttag.src = src;\n",
       "\t\t\tdocument.body.appendChild(tag);\n",
       "\t\t  })\n",
       "\t\t}\n",
       "\t\ttry {\n",
       "\t\trequirejs(['d3', 'dagreD3'], function() {});\n",
       "\t\t} catch (e) {}\n",
       "\t\ttry {\n",
       "\t\trequire(['d3', 'dagreD3'], function() {});\n",
       "\t\t} catch (e) {}\n",
       "\t\t</script>\n",
       "\t\t<style>\n",
       "\t\t.node rect,\n",
       "\t\t.node circle,\n",
       "\t\t.node ellipse {\n",
       "\t\tstroke: #333;\n",
       "\t\tfill: #fff;\n",
       "\t\tstroke-width: 1px;\n",
       "\t\t}\n",
       "\n",
       "\t\t.edgePath path {\n",
       "\t\tstroke: #333;\n",
       "\t\tfill: #333;\n",
       "\t\tstroke-width: 1.5px;\n",
       "\t\t}\n",
       "\t\t</style>\n",
       "\t\t<center><svg width=\"850\" height=\"600\" id=\"fst_c01d05a5c09f482190a28145e268899d\"><g/></svg></center>\n",
       "\t\t<script>\n",
       "\t\t(function render_d3() {\n",
       "\t\tvar d3, dagreD3;\n",
       "\t\ttry { // requirejs is broken on external domains\n",
       "\t\t  d3 = require('d3');\n",
       "\t\t  dagreD3 = require('dagreD3');\n",
       "\t\t} catch (e) {\n",
       "\t\t  // for google colab\n",
       "\t\t  if(typeof window.d3 !== \"undefined\" && typeof window.dagreD3 !== \"undefined\") {\n",
       "\t\t\td3 = window.d3;\n",
       "\t\t\tdagreD3 = window.dagreD3;\n",
       "\t\t  } else { // not loaded yet, so wait and try again\n",
       "\t\t\tsetTimeout(render_d3, 50);\n",
       "\t\t\treturn;\n",
       "\t\t  }\n",
       "\t\t}\n",
       "\t\t//alert(\"loaded\");\n",
       "\t\tvar g = new dagreD3.graphlib.Graph().setGraph({ 'rankdir': 'LR' });\n",
       "\t\tg.setNode(\"3\", { label: \"3 / 3\" , shape: \"circle\" });\n",
       "g.node(\"3\").style = \"fill: #66c2a5\"; \n",
       "g.setNode(\"8\", { label: \"8\" , shape: \"circle\" });\n",
       "g.node(\"8\").style = \"fill: #8da0cb\"; \n",
       "g.setNode(\"5\", { label: \"5\" , shape: \"circle\" });\n",
       "g.node(\"5\").style = \"fill: #8da0cb\"; \n",
       "g.setNode(\"2\", { label: \"2 / 4\" , shape: \"circle\" });\n",
       "g.node(\"2\").style = \"fill: #fc8d62\"; \n",
       "g.setNode(\"7\", { label: \"7 / 2\" , shape: \"circle\" });\n",
       "g.node(\"7\").style = \"fill: #fc8d62\"; \n",
       "g.setEdge(\"2\", \"8\", { arrowhead: \"vee\", label: \"a / 1\" });\n",
       "g.setEdge(\"3\", \"5\", { arrowhead: \"vee\", label: \"c / 4\" });\n",
       "g.setEdge(\"3\", \"7\", { arrowhead: \"vee\", label: \"a / 7\" });\n",
       "g.setEdge(\"5\", \"2\", { arrowhead: \"vee\", label: \"a / 3\" });\n",
       "g.setEdge(\"5\", \"7\", { arrowhead: \"vee\", label: \"a / 8\" });\n",
       "var svg = d3.select(\"#fst_c01d05a5c09f482190a28145e268899d\"); \n",
       "\n",
       "\t\tvar inner = svg.select(\"g\");\n",
       "\n",
       "\t\t// Set up zoom support\n",
       "\t\tvar zoom = d3.zoom().scaleExtent([0.3, 5]).on(\"zoom\", function() {\n",
       "\t\tinner.attr(\"transform\", d3.event.transform);\n",
       "\t\t});\n",
       "\t\tsvg.call(zoom);\n",
       "\n",
       "\t\t// Create the renderer\n",
       "\t\tvar render = new dagreD3.render();\n",
       "\n",
       "\t\t// Run the renderer. This is what draws the final graph.\n",
       "\t\trender(inner, g);\n",
       "\n",
       "\t\t// Center the graph\n",
       "\t\tvar initialScale = 0.75;\n",
       "\t\tsvg.call(zoom.transform, d3.zoomIdentity.translate(\n",
       "\t\t    (svg.attr(\"width\") - g.graph().width * initialScale) / 2, 20).scale(initialScale));\n",
       "\n",
       "\t\tsvg.attr('height', g.graph().height * initialScale + 50);\n",
       "\t\t})();\n",
       "\n",
       "\t\t</script>\n",
       "\t\t"
      ],
      "text/plain": [
       "WFSA(5 states, <class 'rayuela.base.semiring.Tropical'>)"
      ]
     },
     "execution_count": 34,
     "metadata": {},
     "output_type": "execute_result"
    }
   ],
   "source": [
    "fsa = FSA(R=Tropical)\n",
    "\n",
    "fsa.add_arc(State(2), Sym('a'), State(8), Tropical(1))\n",
    "\n",
    "fsa.add_arc(State(3), Sym('c'), State(5), Tropical(4))\n",
    "fsa.add_arc(State(3), Sym('a'), State(7), Tropical(7))\n",
    "\n",
    "fsa.add_arc(State(5), Sym('a'), State(2), Tropical(3))\n",
    "fsa.add_arc(State(5), Sym('a'), State(7), Tropical(8))\n",
    "\n",
    "fsa.set_I(State(3), Tropical(3))\n",
    "fsa.set_F(State(2), Tropical(4))\n",
    "fsa.set_F(State(7), Tropical(2))\n",
    "\n",
    "fsa"
   ]
  },
  {
   "cell_type": "code",
   "execution_count": 35,
   "metadata": {},
   "outputs": [
    {
     "name": "stdout",
     "output_type": "stream",
     "text": [
      "Tropical(12)\n"
     ]
    }
   ],
   "source": [
    "pprint(Pathsum(fsa).pathsum(strategy=Strategy.VITERBI))"
   ]
  },
  {
   "cell_type": "code",
   "execution_count": 36,
   "metadata": {},
   "outputs": [
    {
     "name": "stdout",
     "output_type": "stream",
     "text": [
      "Tropical(12)\n"
     ]
    }
   ],
   "source": [
    "pprint(Pathsum(fsa).pathsum(strategy=Strategy.LEHMANN))"
   ]
  },
  {
   "cell_type": "code",
   "execution_count": 37,
   "metadata": {},
   "outputs": [
    {
     "name": "stdout",
     "output_type": "stream",
     "text": [
      "{(5, 5): Tropical(0.0),\n",
      " (8, 7): Tropical(inf),\n",
      " (2, 8): Tropical(1),\n",
      " (2, 7): Tropical(inf),\n",
      " (5, 8): Tropical(4),\n",
      " (8, 3): Tropical(inf),\n",
      " (7, 5): Tropical(inf),\n",
      " (2, 3): Tropical(inf),\n",
      " (8, 5): Tropical(inf),\n",
      " (3, 8): Tropical(8),\n",
      " (8, 2): Tropical(inf),\n",
      " (2, 5): Tropical(inf),\n",
      " (7, 2): Tropical(inf),\n",
      " (7, 8): Tropical(inf),\n",
      " (7, 3): Tropical(inf),\n",
      " (3, 5): Tropical(4),\n",
      " (5, 3): Tropical(inf),\n",
      " (3, 7): Tropical(7),\n",
      " (5, 7): Tropical(8),\n",
      " (5, 2): Tropical(3),\n",
      " (3, 3): Tropical(0.0),\n",
      " (2, 2): Tropical(0.0),\n",
      " (8, 8): Tropical(0.0),\n",
      " (7, 7): Tropical(0.0),\n",
      " (3, 2): Tropical(7)}\n"
     ]
    }
   ],
   "source": [
    "pprint(Pathsum(fsa).lehmann())"
   ]
  },
  {
   "cell_type": "markdown",
   "metadata": {},
   "source": [
    "#### A self-loop"
   ]
  },
  {
   "cell_type": "code",
   "execution_count": 43,
   "metadata": {},
   "outputs": [
    {
     "data": {
      "text/html": [
       "\n",
       "\t\t<script>\n",
       "\t\ttry {\n",
       "\t\trequire.config({\n",
       "\t\tpaths: {\n",
       "\t\t\"d3\": \"https://cdnjs.cloudflare.com/ajax/libs/d3/4.13.0/d3\",\n",
       "\t\t\"dagreD3\": \"https://cdnjs.cloudflare.com/ajax/libs/dagre-d3/0.6.1/dagre-d3.min\"\n",
       "\t\t}\n",
       "\t\t});\n",
       "\t\t} catch {\n",
       "\t\t  [\"https://cdnjs.cloudflare.com/ajax/libs/d3/4.13.0/d3.js\",\n",
       "\t\t   \"https://cdnjs.cloudflare.com/ajax/libs/dagre-d3/0.6.1/dagre-d3.min.js\"].forEach(function (src) {\n",
       "\t\t\tvar tag = document.createElement('script');\n",
       "\t\t\ttag.src = src;\n",
       "\t\t\tdocument.body.appendChild(tag);\n",
       "\t\t  })\n",
       "\t\t}\n",
       "\t\ttry {\n",
       "\t\trequirejs(['d3', 'dagreD3'], function() {});\n",
       "\t\t} catch (e) {}\n",
       "\t\ttry {\n",
       "\t\trequire(['d3', 'dagreD3'], function() {});\n",
       "\t\t} catch (e) {}\n",
       "\t\t</script>\n",
       "\t\t<style>\n",
       "\t\t.node rect,\n",
       "\t\t.node circle,\n",
       "\t\t.node ellipse {\n",
       "\t\tstroke: #333;\n",
       "\t\tfill: #fff;\n",
       "\t\tstroke-width: 1px;\n",
       "\t\t}\n",
       "\n",
       "\t\t.edgePath path {\n",
       "\t\tstroke: #333;\n",
       "\t\tfill: #333;\n",
       "\t\tstroke-width: 1.5px;\n",
       "\t\t}\n",
       "\t\t</style>\n",
       "\t\t<center><svg width=\"850\" height=\"600\" id=\"fst_cfd50a7d0a9846c6bd814bae4f898330\"><g/></svg></center>\n",
       "\t\t<script>\n",
       "\t\t(function render_d3() {\n",
       "\t\tvar d3, dagreD3;\n",
       "\t\ttry { // requirejs is broken on external domains\n",
       "\t\t  d3 = require('d3');\n",
       "\t\t  dagreD3 = require('dagreD3');\n",
       "\t\t} catch (e) {\n",
       "\t\t  // for google colab\n",
       "\t\t  if(typeof window.d3 !== \"undefined\" && typeof window.dagreD3 !== \"undefined\") {\n",
       "\t\t\td3 = window.d3;\n",
       "\t\t\tdagreD3 = window.dagreD3;\n",
       "\t\t  } else { // not loaded yet, so wait and try again\n",
       "\t\t\tsetTimeout(render_d3, 50);\n",
       "\t\t\treturn;\n",
       "\t\t  }\n",
       "\t\t}\n",
       "\t\t//alert(\"loaded\");\n",
       "\t\tvar g = new dagreD3.graphlib.Graph().setGraph({ 'rankdir': 'LR' });\n",
       "\t\tg.setNode(\"3\", { label: \"3 / 3\" , shape: \"circle\" });\n",
       "g.node(\"3\").style = \"fill: #66c2a5\"; \n",
       "g.setNode(\"8\", { label: \"8\" , shape: \"circle\" });\n",
       "g.node(\"8\").style = \"fill: #8da0cb\"; \n",
       "g.setNode(\"5\", { label: \"5\" , shape: \"circle\" });\n",
       "g.node(\"5\").style = \"fill: #8da0cb\"; \n",
       "g.setNode(\"2\", { label: \"2 / 4\" , shape: \"circle\" });\n",
       "g.node(\"2\").style = \"fill: #fc8d62\"; \n",
       "g.setNode(\"7\", { label: \"7 / 2\" , shape: \"circle\" });\n",
       "g.node(\"7\").style = \"fill: #fc8d62\"; \n",
       "g.setEdge(\"2\", \"8\", { arrowhead: \"vee\", label: \"a / 1\" });\n",
       "g.setEdge(\"3\", \"5\", { arrowhead: \"vee\", label: \"c / 4\" });\n",
       "g.setEdge(\"3\", \"7\", { arrowhead: \"vee\", label: \"a / 7\" });\n",
       "g.setEdge(\"5\", \"2\", { arrowhead: \"vee\", label: \"a / 3\" });\n",
       "g.setEdge(\"5\", \"5\", { arrowhead: \"vee\", label: \"a / 9\" });\n",
       "g.setEdge(\"5\", \"7\", { arrowhead: \"vee\", label: \"a / 8\" });\n",
       "var svg = d3.select(\"#fst_cfd50a7d0a9846c6bd814bae4f898330\"); \n",
       "\n",
       "\t\tvar inner = svg.select(\"g\");\n",
       "\n",
       "\t\t// Set up zoom support\n",
       "\t\tvar zoom = d3.zoom().scaleExtent([0.3, 5]).on(\"zoom\", function() {\n",
       "\t\tinner.attr(\"transform\", d3.event.transform);\n",
       "\t\t});\n",
       "\t\tsvg.call(zoom);\n",
       "\n",
       "\t\t// Create the renderer\n",
       "\t\tvar render = new dagreD3.render();\n",
       "\n",
       "\t\t// Run the renderer. This is what draws the final graph.\n",
       "\t\trender(inner, g);\n",
       "\n",
       "\t\t// Center the graph\n",
       "\t\tvar initialScale = 0.75;\n",
       "\t\tsvg.call(zoom.transform, d3.zoomIdentity.translate(\n",
       "\t\t    (svg.attr(\"width\") - g.graph().width * initialScale) / 2, 20).scale(initialScale));\n",
       "\n",
       "\t\tsvg.attr('height', g.graph().height * initialScale + 50);\n",
       "\t\t})();\n",
       "\n",
       "\t\t</script>\n",
       "\t\t"
      ],
      "text/plain": [
       "WFSA(5 states, <class 'rayuela.base.semiring.Tropical'>)"
      ]
     },
     "execution_count": 43,
     "metadata": {},
     "output_type": "execute_result"
    }
   ],
   "source": [
    "fsa = FSA(R=Tropical)\n",
    "\n",
    "fsa.add_arc(State(2), Sym('a'), State(8), Tropical(1))\n",
    "\n",
    "fsa.add_arc(State(3), Sym('c'), State(5), Tropical(4))\n",
    "fsa.add_arc(State(3), Sym('a'), State(7), Tropical(7))\n",
    "\n",
    "fsa.add_arc(State(5), Sym('a'), State(2), Tropical(3))\n",
    "fsa.add_arc(State(5), Sym('a'), State(5), Tropical(9))\n",
    "fsa.add_arc(State(5), Sym('a'), State(7), Tropical(8))\n",
    "\n",
    "fsa.set_I(State(3), Tropical(3))\n",
    "fsa.set_F(State(2), Tropical(4))\n",
    "fsa.set_F(State(7), Tropical(2))\n",
    "\n",
    "fsa"
   ]
  },
  {
   "cell_type": "code",
   "execution_count": 44,
   "metadata": {},
   "outputs": [
    {
     "name": "stdout",
     "output_type": "stream",
     "text": [
      "{(5, 3): Tropical(inf),\n",
      " (7, 8): Tropical(inf),\n",
      " (5, 8): Tropical(4),\n",
      " (8, 3): Tropical(inf),\n",
      " (8, 2): Tropical(inf),\n",
      " (7, 3): Tropical(inf),\n",
      " (3, 5): Tropical(4),\n",
      " (2, 8): Tropical(1),\n",
      " (2, 5): Tropical(inf),\n",
      " (3, 2): Tropical(7),\n",
      " (8, 7): Tropical(inf),\n",
      " (5, 2): Tropical(3),\n",
      " (3, 3): Tropical(0.0),\n",
      " (8, 5): Tropical(inf),\n",
      " (7, 5): Tropical(inf),\n",
      " (7, 7): Tropical(0.0),\n",
      " (7, 2): Tropical(inf),\n",
      " (8, 8): Tropical(0.0),\n",
      " (3, 8): Tropical(8),\n",
      " (2, 7): Tropical(inf),\n",
      " (5, 7): Tropical(8),\n",
      " (2, 2): Tropical(0.0),\n",
      " (5, 5): Tropical(0.0),\n",
      " (3, 7): Tropical(7),\n",
      " (2, 3): Tropical(inf)}\n"
     ]
    }
   ],
   "source": [
    "pprint(Pathsum(fsa).lehmann())"
   ]
  },
  {
   "cell_type": "code",
   "execution_count": 45,
   "metadata": {},
   "outputs": [
    {
     "name": "stdout",
     "output_type": "stream",
     "text": [
      "Tropical(12)\n"
     ]
    }
   ],
   "source": [
    "pprint(Pathsum(fsa).pathsum(strategy=Strategy.LEHMANN))"
   ]
  },
  {
   "cell_type": "markdown",
   "metadata": {},
   "source": [
    "We see that since the Tropical semiring is 0-closed, the self loop does not affect the pathsum"
   ]
  },
  {
   "cell_type": "markdown",
   "metadata": {},
   "source": [
    "#### A Cycle"
   ]
  },
  {
   "cell_type": "code",
   "execution_count": 46,
   "metadata": {},
   "outputs": [
    {
     "data": {
      "text/html": [
       "\n",
       "\t\t<script>\n",
       "\t\ttry {\n",
       "\t\trequire.config({\n",
       "\t\tpaths: {\n",
       "\t\t\"d3\": \"https://cdnjs.cloudflare.com/ajax/libs/d3/4.13.0/d3\",\n",
       "\t\t\"dagreD3\": \"https://cdnjs.cloudflare.com/ajax/libs/dagre-d3/0.6.1/dagre-d3.min\"\n",
       "\t\t}\n",
       "\t\t});\n",
       "\t\t} catch {\n",
       "\t\t  [\"https://cdnjs.cloudflare.com/ajax/libs/d3/4.13.0/d3.js\",\n",
       "\t\t   \"https://cdnjs.cloudflare.com/ajax/libs/dagre-d3/0.6.1/dagre-d3.min.js\"].forEach(function (src) {\n",
       "\t\t\tvar tag = document.createElement('script');\n",
       "\t\t\ttag.src = src;\n",
       "\t\t\tdocument.body.appendChild(tag);\n",
       "\t\t  })\n",
       "\t\t}\n",
       "\t\ttry {\n",
       "\t\trequirejs(['d3', 'dagreD3'], function() {});\n",
       "\t\t} catch (e) {}\n",
       "\t\ttry {\n",
       "\t\trequire(['d3', 'dagreD3'], function() {});\n",
       "\t\t} catch (e) {}\n",
       "\t\t</script>\n",
       "\t\t<style>\n",
       "\t\t.node rect,\n",
       "\t\t.node circle,\n",
       "\t\t.node ellipse {\n",
       "\t\tstroke: #333;\n",
       "\t\tfill: #fff;\n",
       "\t\tstroke-width: 1px;\n",
       "\t\t}\n",
       "\n",
       "\t\t.edgePath path {\n",
       "\t\tstroke: #333;\n",
       "\t\tfill: #333;\n",
       "\t\tstroke-width: 1.5px;\n",
       "\t\t}\n",
       "\t\t</style>\n",
       "\t\t<center><svg width=\"850\" height=\"600\" id=\"fst_a91b8002883847baaaae6b7a42797bb6\"><g/></svg></center>\n",
       "\t\t<script>\n",
       "\t\t(function render_d3() {\n",
       "\t\tvar d3, dagreD3;\n",
       "\t\ttry { // requirejs is broken on external domains\n",
       "\t\t  d3 = require('d3');\n",
       "\t\t  dagreD3 = require('dagreD3');\n",
       "\t\t} catch (e) {\n",
       "\t\t  // for google colab\n",
       "\t\t  if(typeof window.d3 !== \"undefined\" && typeof window.dagreD3 !== \"undefined\") {\n",
       "\t\t\td3 = window.d3;\n",
       "\t\t\tdagreD3 = window.dagreD3;\n",
       "\t\t  } else { // not loaded yet, so wait and try again\n",
       "\t\t\tsetTimeout(render_d3, 50);\n",
       "\t\t\treturn;\n",
       "\t\t  }\n",
       "\t\t}\n",
       "\t\t//alert(\"loaded\");\n",
       "\t\tvar g = new dagreD3.graphlib.Graph().setGraph({ 'rankdir': 'LR' });\n",
       "\t\tg.setNode(\"3\", { label: \"3 / 3\" , shape: \"circle\" });\n",
       "g.node(\"3\").style = \"fill: #66c2a5\"; \n",
       "g.setNode(\"8\", { label: \"8\" , shape: \"circle\" });\n",
       "g.node(\"8\").style = \"fill: #8da0cb\"; \n",
       "g.setNode(\"5\", { label: \"5\" , shape: \"circle\" });\n",
       "g.node(\"5\").style = \"fill: #8da0cb\"; \n",
       "g.setNode(\"2\", { label: \"2 / 4\" , shape: \"circle\" });\n",
       "g.node(\"2\").style = \"fill: #fc8d62\"; \n",
       "g.setNode(\"7\", { label: \"7 / 2\" , shape: \"circle\" });\n",
       "g.node(\"7\").style = \"fill: #fc8d62\"; \n",
       "g.setEdge(\"2\", \"8\", { arrowhead: \"vee\", label: \"a / 1\" });\n",
       "g.setEdge(\"3\", \"5\", { arrowhead: \"vee\", label: \"c / 4\" });\n",
       "g.setEdge(\"3\", \"7\", { arrowhead: \"vee\", label: \"a / 7\" });\n",
       "g.setEdge(\"5\", \"2\", { arrowhead: \"vee\", label: \"a / 3\" });\n",
       "g.setEdge(\"7\", \"5\", { arrowhead: \"vee\", label: \"a / 3\" });\n",
       "g.setEdge(\"8\", \"7\", { arrowhead: \"vee\", label: \"a / 3\" });\n",
       "var svg = d3.select(\"#fst_a91b8002883847baaaae6b7a42797bb6\"); \n",
       "\n",
       "\t\tvar inner = svg.select(\"g\");\n",
       "\n",
       "\t\t// Set up zoom support\n",
       "\t\tvar zoom = d3.zoom().scaleExtent([0.3, 5]).on(\"zoom\", function() {\n",
       "\t\tinner.attr(\"transform\", d3.event.transform);\n",
       "\t\t});\n",
       "\t\tsvg.call(zoom);\n",
       "\n",
       "\t\t// Create the renderer\n",
       "\t\tvar render = new dagreD3.render();\n",
       "\n",
       "\t\t// Run the renderer. This is what draws the final graph.\n",
       "\t\trender(inner, g);\n",
       "\n",
       "\t\t// Center the graph\n",
       "\t\tvar initialScale = 0.75;\n",
       "\t\tsvg.call(zoom.transform, d3.zoomIdentity.translate(\n",
       "\t\t    (svg.attr(\"width\") - g.graph().width * initialScale) / 2, 20).scale(initialScale));\n",
       "\n",
       "\t\tsvg.attr('height', g.graph().height * initialScale + 50);\n",
       "\t\t})();\n",
       "\n",
       "\t\t</script>\n",
       "\t\t"
      ],
      "text/plain": [
       "WFSA(5 states, <class 'rayuela.base.semiring.Tropical'>)"
      ]
     },
     "execution_count": 46,
     "metadata": {},
     "output_type": "execute_result"
    }
   ],
   "source": [
    "fsa = FSA(R=Tropical)\n",
    "\n",
    "fsa.add_arc(State(2), Sym('a'), State(8), Tropical(1))\n",
    "\n",
    "fsa.add_arc(State(3), Sym('c'), State(5), Tropical(4))\n",
    "fsa.add_arc(State(3), Sym('a'), State(7), Tropical(7))\n",
    "\n",
    "fsa.add_arc(State(5), Sym('a'), State(2), Tropical(3))\n",
    "\n",
    "fsa.add_arc(State(7), Sym('a'), State(5), Tropical(3))\n",
    "\n",
    "fsa.add_arc(State(8), Sym('a'), State(7), Tropical(3))\n",
    "\n",
    "fsa.set_I(State(3), Tropical(3))\n",
    "fsa.set_F(State(2), Tropical(4))\n",
    "fsa.set_F(State(7), Tropical(2))\n",
    "\n",
    "fsa"
   ]
  },
  {
   "cell_type": "code",
   "execution_count": 47,
   "metadata": {},
   "outputs": [
    {
     "name": "stdout",
     "output_type": "stream",
     "text": [
      "{(7, 7): Tropical(0.0),\n",
      " (8, 2): Tropical(9),\n",
      " (3, 8): Tropical(8),\n",
      " (5, 3): Tropical(inf),\n",
      " (2, 3): Tropical(inf),\n",
      " (7, 3): Tropical(inf),\n",
      " (5, 7): Tropical(7),\n",
      " (3, 5): Tropical(4),\n",
      " (8, 3): Tropical(inf),\n",
      " (5, 8): Tropical(4),\n",
      " (3, 2): Tropical(7),\n",
      " (2, 2): Tropical(0.0),\n",
      " (2, 5): Tropical(7),\n",
      " (8, 5): Tropical(6),\n",
      " (3, 3): Tropical(0.0),\n",
      " (2, 7): Tropical(4),\n",
      " (8, 8): Tropical(0.0),\n",
      " (2, 8): Tropical(1),\n",
      " (3, 7): Tropical(7),\n",
      " (7, 8): Tropical(7),\n",
      " (8, 7): Tropical(3),\n",
      " (7, 2): Tropical(6),\n",
      " (7, 5): Tropical(3),\n",
      " (5, 5): Tropical(0.0),\n",
      " (5, 2): Tropical(3)}\n"
     ]
    }
   ],
   "source": [
    "pprint(Pathsum(fsa).lehmann())"
   ]
  },
  {
   "cell_type": "code",
   "execution_count": 48,
   "metadata": {},
   "outputs": [
    {
     "name": "stdout",
     "output_type": "stream",
     "text": [
      "Tropical(12)\n"
     ]
    }
   ],
   "source": [
    "pprint(Pathsum(fsa).pathsum(strategy=Strategy.LEHMANN))"
   ]
  },
  {
   "cell_type": "markdown",
   "metadata": {},
   "source": [
    "Again, the cycle does not affect the pathsum"
   ]
  },
  {
   "cell_type": "markdown",
   "metadata": {},
   "source": [
    "## Example 4"
   ]
  },
  {
   "cell_type": "markdown",
   "metadata": {},
   "source": [
    "Connected components by hand"
   ]
  },
  {
   "cell_type": "code",
   "execution_count": 28,
   "metadata": {},
   "outputs": [
    {
     "data": {
      "text/html": [
       "\n",
       "\t\t<script>\n",
       "\t\ttry {\n",
       "\t\trequire.config({\n",
       "\t\tpaths: {\n",
       "\t\t\"d3\": \"https://cdnjs.cloudflare.com/ajax/libs/d3/4.13.0/d3\",\n",
       "\t\t\"dagreD3\": \"https://cdnjs.cloudflare.com/ajax/libs/dagre-d3/0.6.1/dagre-d3.min\"\n",
       "\t\t}\n",
       "\t\t});\n",
       "\t\t} catch {\n",
       "\t\t  [\"https://cdnjs.cloudflare.com/ajax/libs/d3/4.13.0/d3.js\",\n",
       "\t\t   \"https://cdnjs.cloudflare.com/ajax/libs/dagre-d3/0.6.1/dagre-d3.min.js\"].forEach(function (src) {\n",
       "\t\t\tvar tag = document.createElement('script');\n",
       "\t\t\ttag.src = src;\n",
       "\t\t\tdocument.body.appendChild(tag);\n",
       "\t\t  })\n",
       "\t\t}\n",
       "\t\ttry {\n",
       "\t\trequirejs(['d3', 'dagreD3'], function() {});\n",
       "\t\t} catch (e) {}\n",
       "\t\ttry {\n",
       "\t\trequire(['d3', 'dagreD3'], function() {});\n",
       "\t\t} catch (e) {}\n",
       "\t\t</script>\n",
       "\t\t<style>\n",
       "\t\t.node rect,\n",
       "\t\t.node circle,\n",
       "\t\t.node ellipse {\n",
       "\t\tstroke: #333;\n",
       "\t\tfill: #fff;\n",
       "\t\tstroke-width: 1px;\n",
       "\t\t}\n",
       "\n",
       "\t\t.edgePath path {\n",
       "\t\tstroke: #333;\n",
       "\t\tfill: #333;\n",
       "\t\tstroke-width: 1.5px;\n",
       "\t\t}\n",
       "\t\t</style>\n",
       "\t\t<center><svg width=\"850\" height=\"600\" id=\"fst_f5298bf413894d6d88ce67ad7b565729\"><g/></svg></center>\n",
       "\t\t<script>\n",
       "\t\t(function render_d3() {\n",
       "\t\tvar d3, dagreD3;\n",
       "\t\ttry { // requirejs is broken on external domains\n",
       "\t\t  d3 = require('d3');\n",
       "\t\t  dagreD3 = require('dagreD3');\n",
       "\t\t} catch (e) {\n",
       "\t\t  // for google colab\n",
       "\t\t  if(typeof window.d3 !== \"undefined\" && typeof window.dagreD3 !== \"undefined\") {\n",
       "\t\t\td3 = window.d3;\n",
       "\t\t\tdagreD3 = window.dagreD3;\n",
       "\t\t  } else { // not loaded yet, so wait and try again\n",
       "\t\t\tsetTimeout(render_d3, 50);\n",
       "\t\t\treturn;\n",
       "\t\t  }\n",
       "\t\t}\n",
       "\t\t//alert(\"loaded\");\n",
       "\t\tvar g = new dagreD3.graphlib.Graph().setGraph({ 'rankdir': 'LR' });\n",
       "\t\tg.setNode(\"3\", { label: \"3 / 0.3\" , shape: \"circle\" });\n",
       "g.node(\"3\").style = \"fill: #66c2a5\"; \n",
       "g.setNode(\"1\", { label: \"1\" , shape: \"circle\" });\n",
       "g.node(\"1\").style = \"fill: #8da0cb\"; \n",
       "g.setNode(\"4\", { label: \"4\" , shape: \"circle\" });\n",
       "g.node(\"4\").style = \"fill: #8da0cb\"; \n",
       "g.setNode(\"5\", { label: \"5\" , shape: \"circle\" });\n",
       "g.node(\"5\").style = \"fill: #8da0cb\"; \n",
       "g.setNode(\"6\", { label: \"6\" , shape: \"circle\" });\n",
       "g.node(\"6\").style = \"fill: #8da0cb\"; \n",
       "g.setNode(\"8\", { label: \"8\" , shape: \"circle\" });\n",
       "g.node(\"8\").style = \"fill: #8da0cb\"; \n",
       "g.setNode(\"2\", { label: \"2 / 0.4\" , shape: \"circle\" });\n",
       "g.node(\"2\").style = \"fill: #fc8d62\"; \n",
       "g.setNode(\"7\", { label: \"7 / 0.2\" , shape: \"circle\" });\n",
       "g.node(\"7\").style = \"fill: #fc8d62\"; \n",
       "g.setEdge(\"1\", \"3\", { arrowhead: \"vee\", label: \"c / 0.3\" });\n",
       "g.setEdge(\"1\", \"5\", { arrowhead: \"vee\", label: \"c / 0.3\" });\n",
       "g.setEdge(\"1\", \"4\", { arrowhead: \"vee\", label: \"b / 0.1\" });\n",
       "g.setEdge(\"2\", \"5\", { arrowhead: \"vee\", label: \"a / 0.1\" });\n",
       "g.setEdge(\"3\", \"6\", { arrowhead: \"vee\", label: \"a / 0.1\" });\n",
       "g.setEdge(\"3\", \"1\", { arrowhead: \"vee\", label: \"b / 0.7\" });\n",
       "g.setEdge(\"4\", \"2\", { arrowhead: \"vee\", label: \"a / 0.5\" });\n",
       "g.setEdge(\"5\", \"7\", { arrowhead: \"vee\", label: \"a / 0.8\" });\n",
       "g.setEdge(\"6\", \"7\", { arrowhead: \"vee\", label: \"a / 0.7\" });\n",
       "g.setEdge(\"6\", \"3\", { arrowhead: \"vee\", label: \"a / 0.1\" });\n",
       "g.setEdge(\"7\", \"8\", { arrowhead: \"vee\", label: \"a / 0.2\" });\n",
       "g.setEdge(\"8\", \"7\", { arrowhead: \"vee\", label: \"a / 0.2\" });\n",
       "g.setEdge(\"8\", \"2\", { arrowhead: \"vee\", label: \"a / 0.2\" });\n",
       "var svg = d3.select(\"#fst_f5298bf413894d6d88ce67ad7b565729\"); \n",
       "\n",
       "\t\tvar inner = svg.select(\"g\");\n",
       "\n",
       "\t\t// Set up zoom support\n",
       "\t\tvar zoom = d3.zoom().scaleExtent([0.3, 5]).on(\"zoom\", function() {\n",
       "\t\tinner.attr(\"transform\", d3.event.transform);\n",
       "\t\t});\n",
       "\t\tsvg.call(zoom);\n",
       "\n",
       "\t\t// Create the renderer\n",
       "\t\tvar render = new dagreD3.render();\n",
       "\n",
       "\t\t// Run the renderer. This is what draws the final graph.\n",
       "\t\trender(inner, g);\n",
       "\n",
       "\t\t// Center the graph\n",
       "\t\tvar initialScale = 0.75;\n",
       "\t\tsvg.call(zoom.transform, d3.zoomIdentity.translate(\n",
       "\t\t    (svg.attr(\"width\") - g.graph().width * initialScale) / 2, 20).scale(initialScale));\n",
       "\n",
       "\t\tsvg.attr('height', g.graph().height * initialScale + 50);\n",
       "\t\t})();\n",
       "\n",
       "\t\t</script>\n",
       "\t\t"
      ],
      "text/plain": [
       "WFSA(8 states, <class 'rayuela.base.semiring.Real'>)"
      ]
     },
     "execution_count": 28,
     "metadata": {},
     "output_type": "execute_result"
    }
   ],
   "source": [
    "fsa = FSA(R=Real)\n",
    "\n",
    "fsa.add_arc(State(2), Sym('a'), State(5), Real(0.1))\n",
    "\n",
    "fsa.add_arc(State(3), Sym('a'), State(6), Real(0.1))\n",
    "fsa.add_arc(State(3), Sym('b'), State(1), Real(0.7))\n",
    "\n",
    "fsa.add_arc(State(1), Sym('c'), State(3), Real(0.3))\n",
    "fsa.add_arc(State(1), Sym('c'), State(5), Real(0.3))\n",
    "fsa.add_arc(State(1), Sym('b'), State(4), Real(0.1))\n",
    "\n",
    "fsa.add_arc(State(4), Sym('a'), State(2), Real(0.5))\n",
    "\n",
    "fsa.add_arc(State(5), Sym('a'), State(7), Real(0.8))\n",
    "\n",
    "fsa.add_arc(State(6), Sym('a'), State(7), Real(0.7))\n",
    "fsa.add_arc(State(6), Sym('a'), State(3), Real(0.1))\n",
    "\n",
    "fsa.add_arc(State(7), Sym('a'), State(8), Real(0.2))\n",
    "\n",
    "fsa.add_arc(State(8), Sym('a'), State(7), Real(0.2))\n",
    "fsa.add_arc(State(8), Sym('a'), State(2), Real(0.2))\n",
    "\n",
    "fsa.set_I(State(3), Real(0.3))\n",
    "fsa.set_F(State(2), Real(0.4))\n",
    "fsa.set_F(State(7), Real(0.2))\n",
    "\n",
    "fsa"
   ]
  },
  {
   "cell_type": "code",
   "execution_count": 31,
   "metadata": {},
   "outputs": [
    {
     "data": {
      "text/plain": [
       "[3, 1, 4, 6, 7, 8, 2, 5]"
      ]
     },
     "execution_count": 31,
     "metadata": {},
     "output_type": "execute_result"
    }
   ],
   "source": [
    "list(fsa.finish())"
   ]
  }
 ],
 "metadata": {
  "interpreter": {
   "hash": "2d85c7de4a16314a4976aedd5ceb48d8aa72046524aab8824b721e94bed7e764"
  },
  "kernelspec": {
   "display_name": "Python 3.9.7 ('aflm')",
   "language": "python",
   "name": "python3"
  },
  "language_info": {
   "codemirror_mode": {
    "name": "ipython",
    "version": 3
   },
   "file_extension": ".py",
   "mimetype": "text/x-python",
   "name": "python",
   "nbconvert_exporter": "python",
   "pygments_lexer": "ipython3",
   "version": "3.9.7"
  },
  "orig_nbformat": 4
 },
 "nbformat": 4,
 "nbformat_minor": 2
}
