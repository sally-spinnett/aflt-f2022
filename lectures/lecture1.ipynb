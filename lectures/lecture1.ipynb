{
 "cells": [
  {
   "cell_type": "code",
   "execution_count": 1,
   "id": "f34e4dc3",
   "metadata": {},
   "outputs": [],
   "source": [
    "from rayuela.base.semiring import Boolean\n",
    "from rayuela.fsa.state import State\n",
    "from rayuela.fsa.fsa import FSA"
   ]
  },
  {
   "cell_type": "markdown",
   "id": "e784c063",
   "metadata": {},
   "source": [
    "## Introduction to Rayuela and a Warm-up\n",
    "\n",
    "To get you comfortable with the course library, rayuela, let's start by building a basic FSA that accepts strings over the Kleene closure of the alphabet {a, b} with the restriction that it will only accept FSAs that have an even number of a's, but an odd number of b's."
   ]
  },
  {
   "cell_type": "code",
   "execution_count": 2,
   "id": "9c1e0e04",
   "metadata": {},
   "outputs": [],
   "source": [
    "# create a new FSA in the Boolean semiring\n",
    "fsa = FSA(R=Boolean)"
   ]
  },
  {
   "cell_type": "markdown",
   "id": "6c24b576",
   "metadata": {},
   "source": [
    "Now, we will create the four states we require to encode our language. Note that, in rayuela, both the state and the letters are added on the fly to the FSA. This is all handled internally in the add_arc method, as we will see below, so we just have to create states. To encode the above language, we will need four states that encode each of the four conditions: 1) there are an even number of a's and an even number of b's, 2) there are an even number of a's and and odd number of b's, 3) there are an odd number of a's and an even number of b's and 4) there are odd number of a's and an odd number of b's."
   ]
  },
  {
   "cell_type": "code",
   "execution_count": 3,
   "id": "bd38f539",
   "metadata": {},
   "outputs": [],
   "source": [
    "s1 = State(\"even-even\")\n",
    "s2 = State(\"even-odd\")\n",
    "s3 = State(\"odd-even\")\n",
    "s4 = State(\"odd-odd\")"
   ]
  },
  {
   "cell_type": "markdown",
   "id": "55d2549e",
   "metadata": {},
   "source": [
    "Now we will connect the arcs. Each state need two out-going arcs, one for whether we read in an *a* or a *b*."
   ]
  },
  {
   "cell_type": "code",
   "execution_count": 4,
   "id": "60890036",
   "metadata": {},
   "outputs": [
    {
     "data": {
      "text/html": [
       "\n",
       "\t\t<script>\n",
       "\t\ttry {\n",
       "\t\trequire.config({\n",
       "\t\tpaths: {\n",
       "\t\t\"d3\": \"https://cdnjs.cloudflare.com/ajax/libs/d3/4.13.0/d3\",\n",
       "\t\t\"dagreD3\": \"https://cdnjs.cloudflare.com/ajax/libs/dagre-d3/0.6.1/dagre-d3.min\"\n",
       "\t\t}\n",
       "\t\t});\n",
       "\t\t} catch {\n",
       "\t\t  [\"https://cdnjs.cloudflare.com/ajax/libs/d3/4.13.0/d3.js\",\n",
       "\t\t   \"https://cdnjs.cloudflare.com/ajax/libs/dagre-d3/0.6.1/dagre-d3.min.js\"].forEach(function (src) {\n",
       "\t\t\tvar tag = document.createElement('script');\n",
       "\t\t\ttag.src = src;\n",
       "\t\t\tdocument.body.appendChild(tag);\n",
       "\t\t  })\n",
       "\t\t}\n",
       "\t\ttry {\n",
       "\t\trequirejs(['d3', 'dagreD3'], function() {});\n",
       "\t\t} catch (e) {}\n",
       "\t\ttry {\n",
       "\t\trequire(['d3', 'dagreD3'], function() {});\n",
       "\t\t} catch (e) {}\n",
       "\t\t</script>\n",
       "\t\t<style>\n",
       "\t\t.node rect,\n",
       "\t\t.node circle,\n",
       "\t\t.node ellipse {\n",
       "\t\tstroke: #333;\n",
       "\t\tfill: #fff;\n",
       "\t\tstroke-width: 1px;\n",
       "\t\t}\n",
       "\n",
       "\t\t.edgePath path {\n",
       "\t\tstroke: #333;\n",
       "\t\tfill: #333;\n",
       "\t\tstroke-width: 1.5px;\n",
       "\t\t}\n",
       "\t\t</style>\n",
       "\t\t<center><svg width=\"850\" height=\"600\" id=\"fst_be4f609f35fb402aaf2342b7df905b2a\"><g/></svg></center>\n",
       "\t\t<script>\n",
       "\t\t(function render_d3() {\n",
       "\t\tvar d3, dagreD3;\n",
       "\t\ttry { // requirejs is broken on external domains\n",
       "\t\t  d3 = require('d3');\n",
       "\t\t  dagreD3 = require('dagreD3');\n",
       "\t\t} catch (e) {\n",
       "\t\t  // for google colab\n",
       "\t\t  if(typeof window.d3 !== \"undefined\" && typeof window.dagreD3 !== \"undefined\") {\n",
       "\t\t\td3 = window.d3;\n",
       "\t\t\tdagreD3 = window.dagreD3;\n",
       "\t\t  } else { // not loaded yet, so wait and try again\n",
       "\t\t\tsetTimeout(render_d3, 50);\n",
       "\t\t\treturn;\n",
       "\t\t  }\n",
       "\t\t}\n",
       "\t\t//alert(\"loaded\");\n",
       "\t\tvar g = new dagreD3.graphlib.Graph().setGraph({ 'rankdir': 'LR' });\n",
       "\t\tg.setNode(\"odd-even\", { label: \"odd-even\" , shape: \"circle\" });\n",
       "g.node(\"odd-even\").style = \"fill: #8da0cb\"; \n",
       "g.setNode(\"even-odd\", { label: \"even-odd\" , shape: \"circle\" });\n",
       "g.node(\"even-odd\").style = \"fill: #8da0cb\"; \n",
       "g.setNode(\"even-even\", { label: \"even-even\" , shape: \"circle\" });\n",
       "g.node(\"even-even\").style = \"fill: #8da0cb\"; \n",
       "g.setNode(\"odd-odd\", { label: \"odd-odd\" , shape: \"circle\" });\n",
       "g.node(\"odd-odd\").style = \"fill: #8da0cb\"; \n",
       "g.setEdge(\"odd-even\", \"even-even\", { arrowhead: \"vee\", label: \"a / True\" });\n",
       "g.setEdge(\"odd-even\", \"odd-odd\", { arrowhead: \"vee\", label: \"b / True\" });\n",
       "g.setEdge(\"even-odd\", \"odd-odd\", { arrowhead: \"vee\", label: \"a / True\" });\n",
       "g.setEdge(\"even-odd\", \"even-even\", { arrowhead: \"vee\", label: \"b / True\" });\n",
       "g.setEdge(\"even-even\", \"odd-even\", { arrowhead: \"vee\", label: \"a / True\" });\n",
       "g.setEdge(\"even-even\", \"even-odd\", { arrowhead: \"vee\", label: \"b / True\" });\n",
       "g.setEdge(\"odd-odd\", \"even-odd\", { arrowhead: \"vee\", label: \"a / True\" });\n",
       "g.setEdge(\"odd-odd\", \"odd-even\", { arrowhead: \"vee\", label: \"b / True\" });\n",
       "var svg = d3.select(\"#fst_be4f609f35fb402aaf2342b7df905b2a\"); \n",
       "\n",
       "\t\tvar inner = svg.select(\"g\");\n",
       "\n",
       "\t\t// Set up zoom support\n",
       "\t\tvar zoom = d3.zoom().scaleExtent([0.3, 5]).on(\"zoom\", function() {\n",
       "\t\tinner.attr(\"transform\", d3.event.transform);\n",
       "\t\t});\n",
       "\t\tsvg.call(zoom);\n",
       "\n",
       "\t\t// Create the renderer\n",
       "\t\tvar render = new dagreD3.render();\n",
       "\n",
       "\t\t// Run the renderer. This is what draws the final graph.\n",
       "\t\trender(inner, g);\n",
       "\n",
       "\t\t// Center the graph\n",
       "\t\tvar initialScale = 0.75;\n",
       "\t\tsvg.call(zoom.transform, d3.zoomIdentity.translate(\n",
       "\t\t    (svg.attr(\"width\") - g.graph().width * initialScale) / 2, 20).scale(initialScale));\n",
       "\n",
       "\t\tsvg.attr('height', g.graph().height * initialScale + 50);\n",
       "\t\t})();\n",
       "\n",
       "\t\t</script>\n",
       "\t\t"
      ],
      "text/plain": [
       "WFSA(4 states, <class 'rayuela.base.semiring.Boolean'>)"
      ]
     },
     "execution_count": 4,
     "metadata": {},
     "output_type": "execute_result"
    }
   ],
   "source": [
    "# arcs from s1\n",
    "fsa.add_arc(s1, \"a\", s3)\n",
    "fsa.add_arc(s1, \"b\", s2)\n",
    "\n",
    "# arcs from s2\n",
    "fsa.add_arc(s2, \"a\", s4)\n",
    "fsa.add_arc(s2, \"b\", s1)\n",
    "\n",
    "# arcs from s3\n",
    "fsa.add_arc(s3, \"a\", s1)\n",
    "fsa.add_arc(s3, \"b\", s4)\n",
    "\n",
    "# arcs from s4\n",
    "fsa.add_arc(s4, \"a\", s2)\n",
    "fsa.add_arc(s4, \"b\", s3)\n",
    "\n",
    "fsa"
   ]
  },
  {
   "cell_type": "markdown",
   "id": "aed9040d",
   "metadata": {},
   "source": [
    "The FSA visualized above is a good start, but it lacks initial and final states. So we will add those next."
   ]
  },
  {
   "cell_type": "code",
   "execution_count": 5,
   "id": "ecbc211f",
   "metadata": {
    "scrolled": true
   },
   "outputs": [
    {
     "data": {
      "text/html": [
       "\n",
       "\t\t<script>\n",
       "\t\ttry {\n",
       "\t\trequire.config({\n",
       "\t\tpaths: {\n",
       "\t\t\"d3\": \"https://cdnjs.cloudflare.com/ajax/libs/d3/4.13.0/d3\",\n",
       "\t\t\"dagreD3\": \"https://cdnjs.cloudflare.com/ajax/libs/dagre-d3/0.6.1/dagre-d3.min\"\n",
       "\t\t}\n",
       "\t\t});\n",
       "\t\t} catch {\n",
       "\t\t  [\"https://cdnjs.cloudflare.com/ajax/libs/d3/4.13.0/d3.js\",\n",
       "\t\t   \"https://cdnjs.cloudflare.com/ajax/libs/dagre-d3/0.6.1/dagre-d3.min.js\"].forEach(function (src) {\n",
       "\t\t\tvar tag = document.createElement('script');\n",
       "\t\t\ttag.src = src;\n",
       "\t\t\tdocument.body.appendChild(tag);\n",
       "\t\t  })\n",
       "\t\t}\n",
       "\t\ttry {\n",
       "\t\trequirejs(['d3', 'dagreD3'], function() {});\n",
       "\t\t} catch (e) {}\n",
       "\t\ttry {\n",
       "\t\trequire(['d3', 'dagreD3'], function() {});\n",
       "\t\t} catch (e) {}\n",
       "\t\t</script>\n",
       "\t\t<style>\n",
       "\t\t.node rect,\n",
       "\t\t.node circle,\n",
       "\t\t.node ellipse {\n",
       "\t\tstroke: #333;\n",
       "\t\tfill: #fff;\n",
       "\t\tstroke-width: 1px;\n",
       "\t\t}\n",
       "\n",
       "\t\t.edgePath path {\n",
       "\t\tstroke: #333;\n",
       "\t\tfill: #333;\n",
       "\t\tstroke-width: 1.5px;\n",
       "\t\t}\n",
       "\t\t</style>\n",
       "\t\t<center><svg width=\"850\" height=\"600\" id=\"fst_da4ca8cc5d9d448aad6c156281713946\"><g/></svg></center>\n",
       "\t\t<script>\n",
       "\t\t(function render_d3() {\n",
       "\t\tvar d3, dagreD3;\n",
       "\t\ttry { // requirejs is broken on external domains\n",
       "\t\t  d3 = require('d3');\n",
       "\t\t  dagreD3 = require('dagreD3');\n",
       "\t\t} catch (e) {\n",
       "\t\t  // for google colab\n",
       "\t\t  if(typeof window.d3 !== \"undefined\" && typeof window.dagreD3 !== \"undefined\") {\n",
       "\t\t\td3 = window.d3;\n",
       "\t\t\tdagreD3 = window.dagreD3;\n",
       "\t\t  } else { // not loaded yet, so wait and try again\n",
       "\t\t\tsetTimeout(render_d3, 50);\n",
       "\t\t\treturn;\n",
       "\t\t  }\n",
       "\t\t}\n",
       "\t\t//alert(\"loaded\");\n",
       "\t\tvar g = new dagreD3.graphlib.Graph().setGraph({ 'rankdir': 'LR' });\n",
       "\t\tg.setNode(\"even-even\", { label: \"even-even / True\" , shape: \"circle\" });\n",
       "g.node(\"even-even\").style = \"fill: #66c2a5\"; \n",
       "g.setNode(\"odd-even\", { label: \"odd-even\" , shape: \"circle\" });\n",
       "g.node(\"odd-even\").style = \"fill: #8da0cb\"; \n",
       "g.setNode(\"odd-odd\", { label: \"odd-odd\" , shape: \"circle\" });\n",
       "g.node(\"odd-odd\").style = \"fill: #8da0cb\"; \n",
       "g.setNode(\"even-odd\", { label: \"even-odd / True\" , shape: \"circle\" });\n",
       "g.node(\"even-odd\").style = \"fill: #fc8d62\"; \n",
       "g.setEdge(\"odd-even\", \"even-even\", { arrowhead: \"vee\", label: \"a / True\" });\n",
       "g.setEdge(\"odd-even\", \"odd-odd\", { arrowhead: \"vee\", label: \"b / True\" });\n",
       "g.setEdge(\"even-odd\", \"odd-odd\", { arrowhead: \"vee\", label: \"a / True\" });\n",
       "g.setEdge(\"even-odd\", \"even-even\", { arrowhead: \"vee\", label: \"b / True\" });\n",
       "g.setEdge(\"even-even\", \"odd-even\", { arrowhead: \"vee\", label: \"a / True\" });\n",
       "g.setEdge(\"even-even\", \"even-odd\", { arrowhead: \"vee\", label: \"b / True\" });\n",
       "g.setEdge(\"odd-odd\", \"even-odd\", { arrowhead: \"vee\", label: \"a / True\" });\n",
       "g.setEdge(\"odd-odd\", \"odd-even\", { arrowhead: \"vee\", label: \"b / True\" });\n",
       "var svg = d3.select(\"#fst_da4ca8cc5d9d448aad6c156281713946\"); \n",
       "\n",
       "\t\tvar inner = svg.select(\"g\");\n",
       "\n",
       "\t\t// Set up zoom support\n",
       "\t\tvar zoom = d3.zoom().scaleExtent([0.3, 5]).on(\"zoom\", function() {\n",
       "\t\tinner.attr(\"transform\", d3.event.transform);\n",
       "\t\t});\n",
       "\t\tsvg.call(zoom);\n",
       "\n",
       "\t\t// Create the renderer\n",
       "\t\tvar render = new dagreD3.render();\n",
       "\n",
       "\t\t// Run the renderer. This is what draws the final graph.\n",
       "\t\trender(inner, g);\n",
       "\n",
       "\t\t// Center the graph\n",
       "\t\tvar initialScale = 0.75;\n",
       "\t\tsvg.call(zoom.transform, d3.zoomIdentity.translate(\n",
       "\t\t    (svg.attr(\"width\") - g.graph().width * initialScale) / 2, 20).scale(initialScale));\n",
       "\n",
       "\t\tsvg.attr('height', g.graph().height * initialScale + 50);\n",
       "\t\t})();\n",
       "\n",
       "\t\t</script>\n",
       "\t\t"
      ],
      "text/plain": [
       "WFSA(4 states, <class 'rayuela.base.semiring.Boolean'>)"
      ]
     },
     "execution_count": 5,
     "metadata": {},
     "output_type": "execute_result"
    }
   ],
   "source": [
    "# set initial state\n",
    "fsa.set_I(s1)\n",
    "\n",
    "# set final state\n",
    "fsa.set_F(s2)\n",
    "\n",
    "fsa"
   ]
  },
  {
   "cell_type": "markdown",
   "id": "c415e72b",
   "metadata": {},
   "source": [
    "Now, we will test out our FSA in action. We will test whether it works on various strings. To test whether an FSA accepts a certain string, just run accept method with the target string as input."
   ]
  },
  {
   "cell_type": "code",
   "execution_count": 6,
   "id": "cff37f3e",
   "metadata": {
    "scrolled": false
   },
   "outputs": [
    {
     "name": "stdout",
     "output_type": "stream",
     "text": [
      "ab\tFalse\n",
      "aab\tTrue\n",
      "aabb\tFalse\n",
      "aabbb\tTrue\n"
     ]
    }
   ],
   "source": [
    "print(\"\\n\".join([string+\"\\t\"+str(fsa.accept(string)) for string in [\"ab\", \"aab\", \"aabb\", \"aabbb\"]]))"
   ]
  },
  {
   "cell_type": "markdown",
   "id": "3b1a4718",
   "metadata": {},
   "source": [
    "## A Weighted Generalization\n",
    "\n",
    "Now we will generalize our language to a semiring other than the Boolean semiring. In a standard introduction to formal language theory course, the Boolean semiring is the only object of study. In contrast, this course primarily focuses on other semirings that are of more use for machine learning. Thus, understanding the concept of semiring and its use cases is crucial.\n",
    "\n",
    "Let's consider a weighted language over the real semiring $\\langle \\mathbb{R}_{+}, \\oplus, \\otimes, 0, 1 \\rangle$, i.e., will assign every string a positive real value as a weight. \n",
    "\n",
    "TODO"
   ]
  }
 ],
 "metadata": {
  "kernelspec": {
   "display_name": "Python 3",
   "language": "python",
   "name": "python3"
  },
  "language_info": {
   "codemirror_mode": {
    "name": "ipython",
    "version": 3
   },
   "file_extension": ".py",
   "mimetype": "text/x-python",
   "name": "python",
   "nbconvert_exporter": "python",
   "pygments_lexer": "ipython3",
   "version": "3.8.8"
  }
 },
 "nbformat": 4,
 "nbformat_minor": 5
}
