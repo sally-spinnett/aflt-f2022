{
 "cells": [
  {
   "cell_type": "code",
   "execution_count": null,
   "id": "f34e4dc3",
   "metadata": {},
   "outputs": [],
   "source": [
    "from rayuela.base.semiring import Boolean\n",
    "from rayuela.fsa.state import State\n",
    "from rayuela.fsa.fsa import FSA"
   ]
  },
  {
   "cell_type": "markdown",
   "id": "e784c063",
   "metadata": {},
   "source": [
    "## Introduction to Rayuela and a Warm-up\n",
    "\n",
    "To get you comfortable with the course library, rayuela, let's start by building a basic FSA that accepts strings over the Kleene closure of the alphabet {a, b} with the restriction that it will only accept FSAs that have an even number of a's, but an odd number of b's."
   ]
  },
  {
   "cell_type": "code",
   "execution_count": null,
   "id": "9c1e0e04",
   "metadata": {},
   "outputs": [],
   "source": [
    "# create a new FSA in the Boolean semiring\n",
    "fsa = FSA(R=Boolean)"
   ]
  },
  {
   "cell_type": "markdown",
   "id": "6c24b576",
   "metadata": {},
   "source": [
    "Now, we will create the four states we require to encode our language. Note that, in rayuela, both the state and the letters are added on the fly to the FSA. This is all handled internally in the add_arc method, as we will see below, so we just have to create states. To encode the above language, we will need four states that encode each of the four conditions: 1) there are an even number of a's and an even number of b's, 2) there are an even number of a's and and odd number of b's, 3) there are an odd number of a's and an even number of b's and 4) there are odd number of a's and an odd number of b's."
   ]
  },
  {
   "cell_type": "code",
   "execution_count": null,
   "id": "bd38f539",
   "metadata": {},
   "outputs": [],
   "source": [
    "s1 = State(\"even-even\")\n",
    "s2 = State(\"even-odd\")\n",
    "s3 = State(\"odd-even\")\n",
    "s4 = State(\"odd-odd\")"
   ]
  },
  {
   "cell_type": "markdown",
   "id": "55d2549e",
   "metadata": {},
   "source": [
    "Now we will connect the arcs. Each state need two out-going arcs, one for whether we read in an *a* or a *b*."
   ]
  },
  {
   "cell_type": "code",
   "execution_count": null,
   "id": "60890036",
   "metadata": {},
   "outputs": [],
   "source": [
    "# arcs from s1\n",
    "fsa.add_arc(s1, \"a\", s3)\n",
    "fsa.add_arc(s1, \"b\", s2)\n",
    "\n",
    "# arcs from s2\n",
    "fsa.add_arc(s2, \"a\", s4)\n",
    "fsa.add_arc(s2, \"b\", s1)\n",
    "\n",
    "# arcs from s3\n",
    "fsa.add_arc(s3, \"a\", s1)\n",
    "fsa.add_arc(s3, \"b\", s4)\n",
    "\n",
    "# arcs from s4\n",
    "fsa.add_arc(s4, \"a\", s2)\n",
    "fsa.add_arc(s4, \"b\", s3)\n",
    "\n",
    "fsa"
   ]
  },
  {
   "cell_type": "markdown",
   "id": "aed9040d",
   "metadata": {},
   "source": [
    "The FSA visualized above is a good start, but it lacks initial and final states. So we will add those next."
   ]
  },
  {
   "cell_type": "code",
   "execution_count": null,
   "id": "ecbc211f",
   "metadata": {
    "scrolled": true
   },
   "outputs": [],
   "source": [
    "# set initial state\n",
    "fsa.set_I(s1)\n",
    "\n",
    "# set final state\n",
    "fsa.set_F(s2)\n",
    "\n",
    "fsa"
   ]
  },
  {
   "cell_type": "markdown",
   "id": "c415e72b",
   "metadata": {},
   "source": [
    "Now, we will test out our FSA in action. We will test whether it works on various strings. To test whether an FSA accepts a certain string, just run accept method with the target string as input."
   ]
  },
  {
   "cell_type": "code",
   "execution_count": null,
   "id": "cff37f3e",
   "metadata": {
    "scrolled": false
   },
   "outputs": [],
   "source": [
    "print(\"\\n\".join([string+\"\\t\"+str(fsa.accept(string)) for string in [\"ab\", \"aab\", \"aabb\", \"aabbb\"]]))"
   ]
  },
  {
   "cell_type": "markdown",
   "id": "3b1a4718",
   "metadata": {},
   "source": [
    "## A Weighted Generalization\n",
    "\n",
    "Now we will generalize our language to a semiring other than the Boolean semiring. In a standard introduction to formal language theory course, the Boolean semiring is the only object of study. In contrast, this course primarily focuses on other semirings that are of more use for machine learning. Thus, understanding the concept of semiring and its use cases is crucial.\n",
    "\n",
    "Let's consider a weighted language over the real semiring $\\langle \\mathbb{R}_{+}, \\oplus, \\otimes, 0, 1 \\rangle$, i.e., will assign every string a positive real value as a weight. \n",
    "\n",
    "TODO"
   ]
  }
 ],
 "metadata": {
  "kernelspec": {
   "display_name": "Python 3 (ipykernel)",
   "language": "python",
   "name": "python3"
  },
  "language_info": {
   "codemirror_mode": {
    "name": "ipython",
    "version": 3
   },
   "file_extension": ".py",
   "mimetype": "text/x-python",
   "name": "python",
   "nbconvert_exporter": "python",
   "pygments_lexer": "ipython3",
   "version": "3.9.9"
  }
 },
 "nbformat": 4,
 "nbformat_minor": 5
}
